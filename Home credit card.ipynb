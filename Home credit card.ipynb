{
 "cells": [
  {
   "cell_type": "markdown",
   "id": "4f58bb45",
   "metadata": {},
   "source": [
    "## Loading required libraries"
   ]
  },
  {
   "cell_type": "code",
   "execution_count": 1,
   "id": "1a0cf10f",
   "metadata": {},
   "outputs": [],
   "source": [
    "from sklearn.linear_model import LogisticRegression\n",
    "from sklearn import metrics\n",
    "from sklearn.model_selection import train_test_split\n",
    "import pandas as pd\n",
    "import numpy as np\n",
    "import matplotlib.pyplot as plt\n",
    "import math"
   ]
  },
  {
   "cell_type": "code",
   "execution_count": 2,
   "id": "539b288d",
   "metadata": {},
   "outputs": [],
   "source": [
    "import warnings\n",
    "warnings.filterwarnings('ignore')"
   ]
  },
  {
   "cell_type": "code",
   "execution_count": 3,
   "id": "26eee299",
   "metadata": {},
   "outputs": [],
   "source": [
    "df = pd.read_csv(\"application_train.csv\")"
   ]
  },
  {
   "cell_type": "code",
   "execution_count": 4,
   "id": "cf526804",
   "metadata": {},
   "outputs": [
    {
     "data": {
      "text/plain": [
       "(307511, 122)"
      ]
     },
     "execution_count": 4,
     "metadata": {},
     "output_type": "execute_result"
    }
   ],
   "source": [
    "df.shape"
   ]
  },
  {
   "cell_type": "code",
   "execution_count": 5,
   "id": "889a3dc3",
   "metadata": {},
   "outputs": [],
   "source": [
    "all_col = df.columns"
   ]
  },
  {
   "cell_type": "code",
   "execution_count": 6,
   "id": "79863912",
   "metadata": {},
   "outputs": [],
   "source": [
    "#from pandas_profiling import ProfileReport"
   ]
  },
  {
   "cell_type": "code",
   "execution_count": 7,
   "id": "aec8ec02",
   "metadata": {},
   "outputs": [
    {
     "data": {
      "text/plain": [
       "0    282686\n",
       "1     24825\n",
       "Name: TARGET, dtype: int64"
      ]
     },
     "execution_count": 7,
     "metadata": {},
     "output_type": "execute_result"
    }
   ],
   "source": [
    "df.TARGET.value_counts()"
   ]
  },
  {
   "cell_type": "code",
   "execution_count": null,
   "id": "318425aa",
   "metadata": {},
   "outputs": [],
   "source": []
  },
  {
   "cell_type": "code",
   "execution_count": 8,
   "id": "1f0274b1",
   "metadata": {
    "scrolled": true
   },
   "outputs": [],
   "source": [
    "#profile = ProfileReport(df)\n",
    "#profile"
   ]
  },
  {
   "cell_type": "markdown",
   "id": "8190cef0",
   "metadata": {},
   "source": [
    "### Seperating out NULL and NON-NULL columns"
   ]
  },
  {
   "cell_type": "code",
   "execution_count": 9,
   "id": "f7ef96b0",
   "metadata": {},
   "outputs": [],
   "source": [
    "non_null_col = []\n",
    "null_col = []\n",
    "for i in range(len(all_col)):\n",
    "    if df[all_col[i]].isnull().sum() >0:\n",
    "        null_col.append(all_col[i])\n",
    "    else:\n",
    "        non_null_col.append(all_col[i])"
   ]
  },
  {
   "cell_type": "code",
   "execution_count": null,
   "id": "9b8808d7",
   "metadata": {},
   "outputs": [],
   "source": []
  },
  {
   "cell_type": "markdown",
   "id": "e62347b9",
   "metadata": {},
   "source": [
    "### Creating a list of NULL columns with missing values > 65%"
   ]
  },
  {
   "cell_type": "code",
   "execution_count": 10,
   "id": "991c36fc",
   "metadata": {},
   "outputs": [
    {
     "name": "stdout",
     "output_type": "stream",
     "text": [
      "OWN_CAR_AGE 65.9908100848425\n",
      "YEARS_BUILD_AVG 66.49778381911543\n",
      "COMMONAREA_AVG 69.87229725115525\n",
      "FLOORSMIN_AVG 67.84862980511267\n",
      "LIVINGAPARTMENTS_AVG 68.35495315614726\n",
      "NONLIVINGAPARTMENTS_AVG 69.43296337366793\n",
      "YEARS_BUILD_MODE 66.49778381911543\n",
      "COMMONAREA_MODE 69.87229725115525\n",
      "FLOORSMIN_MODE 67.84862980511267\n",
      "LIVINGAPARTMENTS_MODE 68.35495315614726\n",
      "NONLIVINGAPARTMENTS_MODE 69.43296337366793\n",
      "YEARS_BUILD_MEDI 66.49778381911543\n",
      "COMMONAREA_MEDI 69.87229725115525\n",
      "FLOORSMIN_MEDI 67.84862980511267\n",
      "LIVINGAPARTMENTS_MEDI 68.35495315614726\n",
      "NONLIVINGAPARTMENTS_MEDI 69.43296337366793\n",
      "FONDKAPREMONT_MODE 68.38617155158677\n"
     ]
    }
   ],
   "source": [
    "x = df.isnull().sum()\n",
    "ind = list(x.index)\n",
    "missing_col = []\n",
    "non_missing_col = []\n",
    "for i in range(len(x)):\n",
    "    y = x[i]/len(df) *100 \n",
    "    if y >= 65:\n",
    "        missing_col.append(ind[i])\n",
    "        print(ind[i], y)\n",
    "    elif y==0:\n",
    "        non_missing_col.append(ind[i])"
   ]
  },
  {
   "cell_type": "code",
   "execution_count": 11,
   "id": "8e80be98",
   "metadata": {},
   "outputs": [
    {
     "data": {
      "text/plain": [
       "17"
      ]
     },
     "execution_count": 11,
     "metadata": {},
     "output_type": "execute_result"
    }
   ],
   "source": [
    "len(missing_col)"
   ]
  },
  {
   "cell_type": "markdown",
   "id": "eb6c41ff",
   "metadata": {},
   "source": [
    "### Dropping the NULL columns with missing values > 65%"
   ]
  },
  {
   "cell_type": "code",
   "execution_count": 12,
   "id": "af0c1b02",
   "metadata": {},
   "outputs": [],
   "source": [
    "df.drop(columns=missing_col, inplace=True, axis = 1)"
   ]
  },
  {
   "cell_type": "code",
   "execution_count": 13,
   "id": "9d1437b5",
   "metadata": {},
   "outputs": [
    {
     "data": {
      "text/html": [
       "<div>\n",
       "<style scoped>\n",
       "    .dataframe tbody tr th:only-of-type {\n",
       "        vertical-align: middle;\n",
       "    }\n",
       "\n",
       "    .dataframe tbody tr th {\n",
       "        vertical-align: top;\n",
       "    }\n",
       "\n",
       "    .dataframe thead th {\n",
       "        text-align: right;\n",
       "    }\n",
       "</style>\n",
       "<table border=\"1\" class=\"dataframe\">\n",
       "  <thead>\n",
       "    <tr style=\"text-align: right;\">\n",
       "      <th></th>\n",
       "      <th>SK_ID_CURR</th>\n",
       "      <th>TARGET</th>\n",
       "      <th>NAME_CONTRACT_TYPE</th>\n",
       "      <th>CODE_GENDER</th>\n",
       "      <th>FLAG_OWN_CAR</th>\n",
       "      <th>FLAG_OWN_REALTY</th>\n",
       "      <th>CNT_CHILDREN</th>\n",
       "      <th>AMT_INCOME_TOTAL</th>\n",
       "      <th>AMT_CREDIT</th>\n",
       "      <th>AMT_ANNUITY</th>\n",
       "      <th>...</th>\n",
       "      <th>FLAG_DOCUMENT_18</th>\n",
       "      <th>FLAG_DOCUMENT_19</th>\n",
       "      <th>FLAG_DOCUMENT_20</th>\n",
       "      <th>FLAG_DOCUMENT_21</th>\n",
       "      <th>AMT_REQ_CREDIT_BUREAU_HOUR</th>\n",
       "      <th>AMT_REQ_CREDIT_BUREAU_DAY</th>\n",
       "      <th>AMT_REQ_CREDIT_BUREAU_WEEK</th>\n",
       "      <th>AMT_REQ_CREDIT_BUREAU_MON</th>\n",
       "      <th>AMT_REQ_CREDIT_BUREAU_QRT</th>\n",
       "      <th>AMT_REQ_CREDIT_BUREAU_YEAR</th>\n",
       "    </tr>\n",
       "  </thead>\n",
       "  <tbody>\n",
       "    <tr>\n",
       "      <th>0</th>\n",
       "      <td>100002</td>\n",
       "      <td>1</td>\n",
       "      <td>Cash loans</td>\n",
       "      <td>M</td>\n",
       "      <td>N</td>\n",
       "      <td>Y</td>\n",
       "      <td>0</td>\n",
       "      <td>202500.0</td>\n",
       "      <td>406597.5</td>\n",
       "      <td>24700.5</td>\n",
       "      <td>...</td>\n",
       "      <td>0</td>\n",
       "      <td>0</td>\n",
       "      <td>0</td>\n",
       "      <td>0</td>\n",
       "      <td>0.0</td>\n",
       "      <td>0.0</td>\n",
       "      <td>0.0</td>\n",
       "      <td>0.0</td>\n",
       "      <td>0.0</td>\n",
       "      <td>1.0</td>\n",
       "    </tr>\n",
       "    <tr>\n",
       "      <th>1</th>\n",
       "      <td>100003</td>\n",
       "      <td>0</td>\n",
       "      <td>Cash loans</td>\n",
       "      <td>F</td>\n",
       "      <td>N</td>\n",
       "      <td>N</td>\n",
       "      <td>0</td>\n",
       "      <td>270000.0</td>\n",
       "      <td>1293502.5</td>\n",
       "      <td>35698.5</td>\n",
       "      <td>...</td>\n",
       "      <td>0</td>\n",
       "      <td>0</td>\n",
       "      <td>0</td>\n",
       "      <td>0</td>\n",
       "      <td>0.0</td>\n",
       "      <td>0.0</td>\n",
       "      <td>0.0</td>\n",
       "      <td>0.0</td>\n",
       "      <td>0.0</td>\n",
       "      <td>0.0</td>\n",
       "    </tr>\n",
       "    <tr>\n",
       "      <th>2</th>\n",
       "      <td>100004</td>\n",
       "      <td>0</td>\n",
       "      <td>Revolving loans</td>\n",
       "      <td>M</td>\n",
       "      <td>Y</td>\n",
       "      <td>Y</td>\n",
       "      <td>0</td>\n",
       "      <td>67500.0</td>\n",
       "      <td>135000.0</td>\n",
       "      <td>6750.0</td>\n",
       "      <td>...</td>\n",
       "      <td>0</td>\n",
       "      <td>0</td>\n",
       "      <td>0</td>\n",
       "      <td>0</td>\n",
       "      <td>0.0</td>\n",
       "      <td>0.0</td>\n",
       "      <td>0.0</td>\n",
       "      <td>0.0</td>\n",
       "      <td>0.0</td>\n",
       "      <td>0.0</td>\n",
       "    </tr>\n",
       "  </tbody>\n",
       "</table>\n",
       "<p>3 rows × 105 columns</p>\n",
       "</div>"
      ],
      "text/plain": [
       "   SK_ID_CURR  TARGET NAME_CONTRACT_TYPE CODE_GENDER FLAG_OWN_CAR  \\\n",
       "0      100002       1         Cash loans           M            N   \n",
       "1      100003       0         Cash loans           F            N   \n",
       "2      100004       0    Revolving loans           M            Y   \n",
       "\n",
       "  FLAG_OWN_REALTY  CNT_CHILDREN  AMT_INCOME_TOTAL  AMT_CREDIT  AMT_ANNUITY  \\\n",
       "0               Y             0          202500.0    406597.5      24700.5   \n",
       "1               N             0          270000.0   1293502.5      35698.5   \n",
       "2               Y             0           67500.0    135000.0       6750.0   \n",
       "\n",
       "   ...  FLAG_DOCUMENT_18 FLAG_DOCUMENT_19 FLAG_DOCUMENT_20 FLAG_DOCUMENT_21  \\\n",
       "0  ...                 0                0                0                0   \n",
       "1  ...                 0                0                0                0   \n",
       "2  ...                 0                0                0                0   \n",
       "\n",
       "  AMT_REQ_CREDIT_BUREAU_HOUR AMT_REQ_CREDIT_BUREAU_DAY  \\\n",
       "0                        0.0                       0.0   \n",
       "1                        0.0                       0.0   \n",
       "2                        0.0                       0.0   \n",
       "\n",
       "   AMT_REQ_CREDIT_BUREAU_WEEK  AMT_REQ_CREDIT_BUREAU_MON  \\\n",
       "0                         0.0                        0.0   \n",
       "1                         0.0                        0.0   \n",
       "2                         0.0                        0.0   \n",
       "\n",
       "   AMT_REQ_CREDIT_BUREAU_QRT  AMT_REQ_CREDIT_BUREAU_YEAR  \n",
       "0                        0.0                         1.0  \n",
       "1                        0.0                         0.0  \n",
       "2                        0.0                         0.0  \n",
       "\n",
       "[3 rows x 105 columns]"
      ]
     },
     "execution_count": 13,
     "metadata": {},
     "output_type": "execute_result"
    }
   ],
   "source": [
    "df.head(3)"
   ]
  },
  {
   "cell_type": "markdown",
   "id": "547d5d68",
   "metadata": {},
   "source": [
    "### Dropping the FLAG DOCUMENTS based on CRAMER'S V Rule"
   ]
  },
  {
   "cell_type": "code",
   "execution_count": 14,
   "id": "701d0b8d",
   "metadata": {},
   "outputs": [],
   "source": [
    "d =['FLAG_DOCUMENT_4','FLAG_DOCUMENT_5','FLAG_DOCUMENT_7','FLAG_DOCUMENT_10','FLAG_DOCUMENT_12','FLAG_DOCUMENT_19',\n",
    "    'FLAG_DOCUMENT_20']\n",
    "drop_FLAG = ['FLAG_DOCUMENT_2','FLAG_DOCUMENT_3','FLAG_DOCUMENT_4','FLAG_DOCUMENT_5', 'FLAG_DOCUMENT_6','FLAG_DOCUMENT_7',\n",
    "             'FLAG_DOCUMENT_8','FLAG_DOCUMENT_9','FLAG_DOCUMENT_10','FLAG_DOCUMENT_11','FLAG_DOCUMENT_12','FLAG_DOCUMENT_13',\n",
    "             'FLAG_DOCUMENT_14','FLAG_DOCUMENT_15','FLAG_DOCUMENT_16','FLAG_DOCUMENT_17','FLAG_DOCUMENT_18','FLAG_DOCUMENT_19',\n",
    "             'FLAG_DOCUMENT_20','FLAG_DOCUMENT_21']"
   ]
  },
  {
   "cell_type": "code",
   "execution_count": 15,
   "id": "4ad94519",
   "metadata": {},
   "outputs": [],
   "source": [
    "for i in d:\n",
    "    if i in drop_FLAG:\n",
    "        drop_FLAG.remove(i)"
   ]
  },
  {
   "cell_type": "code",
   "execution_count": 16,
   "id": "7f2cba9d",
   "metadata": {},
   "outputs": [
    {
     "data": {
      "text/plain": [
       "['FLAG_DOCUMENT_2',\n",
       " 'FLAG_DOCUMENT_3',\n",
       " 'FLAG_DOCUMENT_6',\n",
       " 'FLAG_DOCUMENT_8',\n",
       " 'FLAG_DOCUMENT_9',\n",
       " 'FLAG_DOCUMENT_11',\n",
       " 'FLAG_DOCUMENT_13',\n",
       " 'FLAG_DOCUMENT_14',\n",
       " 'FLAG_DOCUMENT_15',\n",
       " 'FLAG_DOCUMENT_16',\n",
       " 'FLAG_DOCUMENT_17',\n",
       " 'FLAG_DOCUMENT_18',\n",
       " 'FLAG_DOCUMENT_21']"
      ]
     },
     "execution_count": 16,
     "metadata": {},
     "output_type": "execute_result"
    }
   ],
   "source": [
    "drop_FLAG"
   ]
  },
  {
   "cell_type": "code",
   "execution_count": 17,
   "id": "9451170c",
   "metadata": {},
   "outputs": [],
   "source": [
    "df.drop(columns=drop_FLAG, inplace=True, axis = 1)"
   ]
  },
  {
   "cell_type": "markdown",
   "id": "effaacb9",
   "metadata": {},
   "source": [
    "### Mode/ Median imputation if the null value % <= 5"
   ]
  },
  {
   "cell_type": "code",
   "execution_count": 18,
   "id": "f53957ed",
   "metadata": {
    "scrolled": false
   },
   "outputs": [
    {
     "name": "stdout",
     "output_type": "stream",
     "text": [
      "AMT_ANNUITY \t 0.003902299429939092\n"
     ]
    },
    {
     "data": {
      "image/png": "[encoded data removed]",
      "text/plain": [
       "<Figure size 432x288 with 1 Axes>"
      ]
     },
     "metadata": {
      "needs_background": "light"
     },
     "output_type": "display_data"
    },
    {
     "name": "stdout",
     "output_type": "stream",
     "text": [
      "AMT_GOODS_PRICE \t 0.09040327012692229\n"
     ]
    },
    {
     "data": {
      "image/png": "[encoded data removed]",
      "text/plain": [
       "<Figure size 432x288 with 1 Axes>"
      ]
     },
     "metadata": {
      "needs_background": "light"
     },
     "output_type": "display_data"
    },
    {
     "name": "stdout",
     "output_type": "stream",
     "text": [
      "NAME_TYPE_SUITE \t 0.42014757195677555\n"
     ]
    },
    {
     "data": {
      "image/png": "[encoded data removed]",
      "text/plain": [
       "<Figure size 432x288 with 1 Axes>"
      ]
     },
     "metadata": {
      "needs_background": "light"
     },
     "output_type": "display_data"
    },
    {
     "name": "stdout",
     "output_type": "stream",
     "text": [
      "CNT_FAM_MEMBERS \t 0.0006503832383231819\n"
     ]
    },
    {
     "data": {
      "image/png": "[encoded data removed]",
      "text/plain": [
       "<Figure size 432x288 with 1 Axes>"
      ]
     },
     "metadata": {
      "needs_background": "light"
     },
     "output_type": "display_data"
    },
    {
     "name": "stdout",
     "output_type": "stream",
     "text": [
      "EXT_SOURCE_2 \t 0.21462646864665005\n"
     ]
    },
    {
     "data": {
      "image/png": "[encoded data removed]",
      "text/plain": [
       "<Figure size 432x288 with 1 Axes>"
      ]
     },
     "metadata": {
      "needs_background": "light"
     },
     "output_type": "display_data"
    },
    {
     "name": "stdout",
     "output_type": "stream",
     "text": [
      "OBS_30_CNT_SOCIAL_CIRCLE \t 0.3320206431639844\n"
     ]
    },
    {
     "data": {
      "image/png": "[encoded data removed]",
      "text/plain": [
       "<Figure size 432x288 with 1 Axes>"
      ]
     },
     "metadata": {
      "needs_background": "light"
     },
     "output_type": "display_data"
    },
    {
     "name": "stdout",
     "output_type": "stream",
     "text": [
      "DEF_30_CNT_SOCIAL_CIRCLE \t 0.3320206431639844\n"
     ]
    },
    {
     "data": {
      "image/png": "[encoded data removed]",
      "text/plain": [
       "<Figure size 432x288 with 1 Axes>"
      ]
     },
     "metadata": {
      "needs_background": "light"
     },
     "output_type": "display_data"
    },
    {
     "name": "stdout",
     "output_type": "stream",
     "text": [
      "OBS_60_CNT_SOCIAL_CIRCLE \t 0.3320206431639844\n"
     ]
    },
    {
     "data": {
      "image/png": "[encoded data removed]",
      "text/plain": [
       "<Figure size 432x288 with 1 Axes>"
      ]
     },
     "metadata": {
      "needs_background": "light"
     },
     "output_type": "display_data"
    },
    {
     "name": "stdout",
     "output_type": "stream",
     "text": [
      "DEF_60_CNT_SOCIAL_CIRCLE \t 0.3320206431639844\n"
     ]
    },
    {
     "data": {
      "image/png": "[encoded data removed]",
      "text/plain": [
       "<Figure size 432x288 with 1 Axes>"
      ]
     },
     "metadata": {
      "needs_background": "light"
     },
     "output_type": "display_data"
    },
    {
     "name": "stdout",
     "output_type": "stream",
     "text": [
      "DAYS_LAST_PHONE_CHANGE \t 0.00032519161916159093\n"
     ]
    },
    {
     "data": {
      "image/png": "[encoded data removed]",
      "text/plain": [
       "<Figure size 432x288 with 1 Axes>"
      ]
     },
     "metadata": {
      "needs_background": "light"
     },
     "output_type": "display_data"
    }
   ],
   "source": [
    "x = df.isnull().sum()\n",
    "ind = list(x.index)\n",
    "cnt = 0\n",
    "for i in range(len(x)):\n",
    "    y = x[i]/len(df) *100 \n",
    "    if y>0 and y<=5:\n",
    "        cnt += 1\n",
    "        print(ind[i], \"\\t\", y)\n",
    "        df[ind[i]].hist()\n",
    "        plt.show()"
   ]
  },
  {
   "cell_type": "code",
   "execution_count": 19,
   "id": "95c41f63",
   "metadata": {},
   "outputs": [],
   "source": [
    "mode_impute = ['NAME_TYPE_SUITE' ,'CNT_FAM_MEMBERS', 'OBS_30_CNT_SOCIAL_CIRCLE' , 'DEF_30_CNT_SOCIAL_CIRCLE', \n",
    "               'OBS_60_CNT_SOCIAL_CIRCLE' , 'DEF_60_CNT_SOCIAL_CIRCLE']\n",
    "\n",
    "median_impute = ['AMT_ANNUITY' ,'AMT_GOODS_PRICE', 'EXT_SOURCE_2', 'DAYS_LAST_PHONE_CHANGE']"
   ]
  },
  {
   "cell_type": "code",
   "execution_count": 20,
   "id": "8fe54ad5",
   "metadata": {},
   "outputs": [],
   "source": [
    "for i in range(len(mode_impute)):\n",
    "    df[mode_impute[i]].fillna(df[mode_impute[i]].mode()[0], inplace=True)\n",
    "    \n",
    "for j in range(len(median_impute)):\n",
    "    df[median_impute[j]].fillna(df[median_impute[j]].median(), inplace=True)"
   ]
  },
  {
   "cell_type": "markdown",
   "id": "ad16306e",
   "metadata": {},
   "source": [
    "### Seperating continuous and categorical variables"
   ]
  },
  {
   "cell_type": "code",
   "execution_count": 21,
   "id": "38db9dfb",
   "metadata": {},
   "outputs": [],
   "source": [
    "all_col = df.columns\n",
    "non_null = []\n",
    "null = []\n",
    "for i in list(all_col):\n",
    "    if df[i].isnull().sum() == 0:\n",
    "        non_null.append(i)\n",
    "    else:\n",
    "        null.append(i)\n"
   ]
  },
  {
   "cell_type": "code",
   "execution_count": 22,
   "id": "4160e32c",
   "metadata": {},
   "outputs": [],
   "source": [
    "null_continuous = []\n",
    "null_categorical = []\n",
    "for i in range(0, len(null)):\n",
    "    if len(df[null[i]].unique()) >= 26:\n",
    "        null_continuous.append(null[i])\n",
    "    else:\n",
    "        null_categorical.append(null[i])\n"
   ]
  },
  {
   "cell_type": "code",
   "execution_count": 23,
   "id": "506663a8",
   "metadata": {},
   "outputs": [],
   "source": [
    "null_categorical.append(null_continuous.pop())  ## POP...  RUN ONLY ONCE"
   ]
  },
  {
   "cell_type": "code",
   "execution_count": 24,
   "id": "06c439e3",
   "metadata": {},
   "outputs": [],
   "source": [
    "non_null_continuous = []\n",
    "non_null_categorical = []\n",
    "for i in range(0, len(non_null)):\n",
    "    if len(df[non_null[i]].unique()) >= 50:\n",
    "        non_null_continuous.append(non_null[i])\n",
    "    else:\n",
    "        non_null_categorical.append(non_null[i])"
   ]
  },
  {
   "cell_type": "code",
   "execution_count": 25,
   "id": "93ef2e59",
   "metadata": {},
   "outputs": [],
   "source": [
    "non_null_continuous.remove('SK_ID_CURR')\n",
    "non_null_continuous.remove('ORGANIZATION_TYPE')\n",
    "non_null_categorical.append('ORGANIZATION_TYPE')"
   ]
  },
  {
   "cell_type": "code",
   "execution_count": 26,
   "id": "1947588d",
   "metadata": {},
   "outputs": [],
   "source": [
    "continuous = non_null_continuous + null_continuous\n",
    "categorical = non_null_categorical + null_categorical"
   ]
  },
  {
   "cell_type": "markdown",
   "id": "3af5eed1",
   "metadata": {},
   "source": [
    "### KNN Imputation for missing values of continuous variables"
   ]
  },
  {
   "cell_type": "code",
   "execution_count": 27,
   "id": "92d738c5",
   "metadata": {},
   "outputs": [],
   "source": [
    "#from sklearn.preprocessing import StandardScaler"
   ]
  },
  {
   "cell_type": "code",
   "execution_count": 28,
   "id": "817cdedf",
   "metadata": {},
   "outputs": [],
   "source": [
    "# df_non_null_cont = df.loc[:, non_null_continuous]\n",
    "# df_non_null_cont"
   ]
  },
  {
   "cell_type": "code",
   "execution_count": 29,
   "id": "3fdce2f3",
   "metadata": {},
   "outputs": [],
   "source": [
    "# st = StandardScaler()\n",
    "# scaled_df = st.fit_transform(df_non_null_cont)"
   ]
  },
  {
   "cell_type": "code",
   "execution_count": 30,
   "id": "9847aa49",
   "metadata": {},
   "outputs": [],
   "source": [
    "# scaled_df = pd.DataFrame(scaled_df, columns= non_null_continuous)"
   ]
  },
  {
   "cell_type": "code",
   "execution_count": 31,
   "id": "38f02187",
   "metadata": {},
   "outputs": [],
   "source": [
    "#from sklearn.impute import KNNImputer"
   ]
  },
  {
   "cell_type": "code",
   "execution_count": 32,
   "id": "e847fb98",
   "metadata": {},
   "outputs": [],
   "source": [
    "#col = list(scaled_df.columns)"
   ]
  },
  {
   "cell_type": "code",
   "execution_count": 33,
   "id": "d7ed86db",
   "metadata": {},
   "outputs": [],
   "source": [
    "# imputer = KNNImputer(n_neighbors=3)\n",
    "# After_imputation = imputer.fit_transform(scaled_df)\n",
    "# a = pd.DataFrame(After_imputation, columns=col)\n",
    "# a"
   ]
  },
  {
   "cell_type": "markdown",
   "id": "43b7b75b",
   "metadata": {},
   "source": [
    "### Reading KNN imputed file and joining with the dataframe"
   ]
  },
  {
   "cell_type": "code",
   "execution_count": 34,
   "id": "99de63ed",
   "metadata": {},
   "outputs": [],
   "source": [
    "df_continuous = pd.read_csv('Imputed_Results.csv')"
   ]
  },
  {
   "cell_type": "code",
   "execution_count": 35,
   "id": "75328e53",
   "metadata": {},
   "outputs": [],
   "source": [
    "df[null_continuous] = df_continuous[null_continuous]"
   ]
  },
  {
   "cell_type": "markdown",
   "id": "4aaf346c",
   "metadata": {},
   "source": [
    "### Dropping the insignificane categorical variables based on Cramer's V Rule"
   ]
  },
  {
   "cell_type": "code",
   "execution_count": 36,
   "id": "5f2a8e90",
   "metadata": {},
   "outputs": [],
   "source": [
    "categorical_insignificance = ['AMT_REQ_CREDIT_BUREAU_HOUR', 'AMT_REQ_CREDIT_BUREAU_DAY', 'AMT_REQ_CREDIT_BUREAU_WEEK',\n",
    "                             'FLAG_MOBIL', 'FLAG_CONT_MOBILE', 'FLAG_EMAIL','LIVE_REGION_NOT_WORK_REGION', ]"
   ]
  },
  {
   "cell_type": "code",
   "execution_count": 37,
   "id": "803dccc3",
   "metadata": {},
   "outputs": [],
   "source": [
    "for i in categorical_insignificance:\n",
    "    if i in categorical:\n",
    "        categorical.remove(i)"
   ]
  },
  {
   "cell_type": "markdown",
   "id": "bd5efd41",
   "metadata": {},
   "source": [
    "### Imputing the remining NULL categorical columns with conditional mode"
   ]
  },
  {
   "cell_type": "code",
   "execution_count": 38,
   "id": "ff1f673f",
   "metadata": {},
   "outputs": [],
   "source": [
    "for i in null_categorical:\n",
    "    mode_0 = (df[df.TARGET == 0].loc[:, [i]].mode())\n",
    "    mode_1 = (df[df.TARGET == 1].loc[:, [i]].mode())\n",
    "    \n",
    "    mode_0 = mode_0.loc[:, i][0]\n",
    "    mode_1 = mode_1.loc[:, i][0]\n",
    "    \n",
    "    \n",
    "    df[i][df.TARGET == 0] = df[i][df.TARGET == 0].fillna(mode_0)\n",
    "    df[i][df.TARGET == 1] = df[i][df.TARGET == 1].fillna(mode_1)"
   ]
  },
  {
   "cell_type": "code",
   "execution_count": 39,
   "id": "730a76b4",
   "metadata": {},
   "outputs": [],
   "source": [
    "continuos = null_continuous + non_null_continuous"
   ]
  },
  {
   "cell_type": "code",
   "execution_count": 40,
   "id": "1e0aca46",
   "metadata": {},
   "outputs": [],
   "source": [
    "categorical = null_categorical + non_null_categorical"
   ]
  },
  {
   "cell_type": "code",
   "execution_count": 41,
   "id": "3e5570de",
   "metadata": {},
   "outputs": [],
   "source": [
    "#df.to_csv('FINAL.csv', index=False)"
   ]
  },
  {
   "cell_type": "markdown",
   "id": "2fc1b15c",
   "metadata": {},
   "source": [
    "### Finding the IV"
   ]
  },
  {
   "cell_type": "code",
   "execution_count": 42,
   "id": "cd909ecd",
   "metadata": {},
   "outputs": [],
   "source": [
    "from monotonic_binning.monotonic_woe_binning import Binning"
   ]
  },
  {
   "cell_type": "code",
   "execution_count": 43,
   "id": "12b3c8cb",
   "metadata": {},
   "outputs": [],
   "source": [
    "col = continuos"
   ]
  },
  {
   "cell_type": "code",
   "execution_count": 44,
   "id": "ce9fb5d2",
   "metadata": {},
   "outputs": [],
   "source": [
    "col.append('TARGET')"
   ]
  },
  {
   "cell_type": "code",
   "execution_count": 45,
   "id": "3ed33799",
   "metadata": {
    "scrolled": false
   },
   "outputs": [],
   "source": [
    "# iv = []\n",
    "# continuos_insignificance = [ ]\n",
    "# for i in col:\n",
    "#     var = i\n",
    "#     y_var = 'TARGET'\n",
    "    \n",
    "#     if var != y_var:\n",
    "#         bin_object = Binning(y_var, n_threshold=50, y_threshold=10, p_threshold=0.35, sign=False)\n",
    "#         bin_object.fit(df[[y_var, var]])\n",
    "#         iv = round(np.sum(bin_object.woe_summary['IV_components']),4)\n",
    "#         print(var, ':', iv )\n",
    "#         if iv < 0.03:\n",
    "#             continuos_insignificance.append(var)\n",
    "#         #j = 'WOE_' + i\n",
    "#         #plt.plot(bin_object.woe_summary[j])\n",
    "#         #plt.show()\n",
    "        "
   ]
  },
  {
   "cell_type": "code",
   "execution_count": 46,
   "id": "c052c947",
   "metadata": {},
   "outputs": [],
   "source": [
    "continuos_insignificance = ['EXT_SOURCE_1','EXT_SOURCE_3', 'APARTMENTS_AVG','BASEMENTAREA_AVG','YEARS_BEGINEXPLUATATION_AVG',\n",
    "                            'ELEVATORS_AVG','ENTRANCES_AVG','FLOORSMAX_AVG','LANDAREA_AVG','LIVINGAREA_AVG','NONLIVINGAREA_AVG',\n",
    "                            'APARTMENTS_MODE','BASEMENTAREA_MODE','YEARS_BEGINEXPLUATATION_MODE', 'ELEVATORS_MODE',\n",
    "                            'ENTRANCES_MODE','FLOORSMAX_MODE','LANDAREA_MODE','LIVINGAREA_MODE','NONLIVINGAREA_MODE',\n",
    "                            'APARTMENTS_MEDI','BASEMENTAREA_MEDI','YEARS_BEGINEXPLUATATION_MEDI','ELEVATORS_MEDI',\n",
    "                            'ENTRANCES_MEDI','FLOORSMAX_MEDI','LANDAREA_MEDI','LIVINGAREA_MEDI', 'NONLIVINGAREA_MEDI',\n",
    "                            'TOTALAREA_MODE','AMT_INCOME_TOTAL','AMT_CREDIT','AMT_ANNUITY','AMT_GOODS_PRICE',\n",
    "                            'REGION_POPULATION_RELATIVE','EXT_SOURCE_2']"
   ]
  },
  {
   "cell_type": "code",
   "execution_count": null,
   "id": "914f3c22",
   "metadata": {},
   "outputs": [],
   "source": []
  },
  {
   "cell_type": "code",
   "execution_count": 47,
   "id": "fc66093e",
   "metadata": {},
   "outputs": [],
   "source": [
    "df = df.drop(continuos_insignificance, axis=1)"
   ]
  },
  {
   "cell_type": "code",
   "execution_count": 48,
   "id": "59ca83dc",
   "metadata": {},
   "outputs": [],
   "source": [
    "categorical.remove('TARGET')"
   ]
  },
  {
   "cell_type": "code",
   "execution_count": 49,
   "id": "bb1f620e",
   "metadata": {},
   "outputs": [],
   "source": [
    "categorical_dummies = []\n",
    "categorical_non_dummies = []\n",
    "for i in categorical:\n",
    "    if df[i].dtype == object:\n",
    "        categorical_dummies.append(i)\n",
    "        \n",
    "for i in categorical:\n",
    "    if i not in categorical_dummies:\n",
    "        categorical_non_dummies.append(i)"
   ]
  },
  {
   "cell_type": "code",
   "execution_count": 50,
   "id": "d624c991",
   "metadata": {},
   "outputs": [],
   "source": [
    "from sklearn.metrics import roc_auc_score, roc_curve, precision_score, f1_score, recall_score, accuracy_score, confusion_matrix"
   ]
  },
  {
   "cell_type": "code",
   "execution_count": null,
   "id": "662b2c18",
   "metadata": {},
   "outputs": [],
   "source": []
  },
  {
   "cell_type": "code",
   "execution_count": 52,
   "id": "d65ee65f",
   "metadata": {},
   "outputs": [],
   "source": [
    "X = df.drop(['TARGET', 'SK_ID_CURR'], axis = 1)\n",
    "y = df.TARGET"
   ]
  },
  {
   "cell_type": "code",
   "execution_count": null,
   "id": "a89903ac",
   "metadata": {},
   "outputs": [],
   "source": []
  },
  {
   "cell_type": "code",
   "execution_count": 58,
   "id": "9746e549",
   "metadata": {},
   "outputs": [],
   "source": [
    "X = pd.get_dummies(X, columns=categorical_dummies, drop_first=True)"
   ]
  },
  {
   "cell_type": "code",
   "execution_count": 59,
   "id": "1288bfe8",
   "metadata": {},
   "outputs": [],
   "source": [
    "X_train, X_test, y_train, y_test = train_test_split(X, y, test_size=0.25)"
   ]
  },
  {
   "cell_type": "code",
   "execution_count": 60,
   "id": "118f8a19",
   "metadata": {},
   "outputs": [],
   "source": [
    "from imblearn.over_sampling import SMOTE\n",
    "sm = SMOTE()\n",
    "Xb_train, yb_train = sm.fit_resample(X_train, y_train)"
   ]
  },
  {
   "cell_type": "code",
   "execution_count": 61,
   "id": "ce1534e7",
   "metadata": {},
   "outputs": [],
   "source": [
    "logreg = LogisticRegression()\n",
    "logreg.fit(Xb_train, yb_train)\n",
    "y_train_pred = logreg.predict(Xb_train)"
   ]
  },
  {
   "cell_type": "code",
   "execution_count": null,
   "id": "8833444b",
   "metadata": {},
   "outputs": [],
   "source": []
  },
  {
   "cell_type": "code",
   "execution_count": 62,
   "id": "f02be82e",
   "metadata": {},
   "outputs": [
    {
     "name": "stdout",
     "output_type": "stream",
     "text": [
      "Accuracy of logistic regression classifier on training set: 55.33\n"
     ]
    }
   ],
   "source": [
    "#y_pred = logreg.predict(X_test)\n",
    "print('Accuracy of logistic regression classifier on training set: {:.2f}'.format(accuracy_score(yb_train, y_train_pred)*100))"
   ]
  },
  {
   "cell_type": "code",
   "execution_count": 63,
   "id": "9dfa1f36",
   "metadata": {},
   "outputs": [
    {
     "name": "stdout",
     "output_type": "stream",
     "text": [
      "[[121879  90097]\n",
      " [ 99278 112698]]\n"
     ]
    }
   ],
   "source": [
    "cm = confusion_matrix(yb_train, y_train_pred)\n",
    "print(cm)"
   ]
  },
  {
   "cell_type": "code",
   "execution_count": 64,
   "id": "5c52c619",
   "metadata": {},
   "outputs": [
    {
     "data": {
      "image/png": "[encoded data removed]",
      "text/plain": [
       "<Figure size 432x288 with 2 Axes>"
      ]
     },
     "metadata": {
      "needs_background": "light"
     },
     "output_type": "display_data"
    }
   ],
   "source": [
    "display = metrics.ConfusionMatrixDisplay(confusion_matrix=cm)\n",
    "display.plot();\n",
    "plt.show()"
   ]
  },
  {
   "cell_type": "code",
   "execution_count": 65,
   "id": "56b1be55",
   "metadata": {},
   "outputs": [],
   "source": [
    "# from sklearn.metrics import classification_report\n",
    "# print(classification_report(y_test, y_pred))"
   ]
  },
  {
   "cell_type": "code",
   "execution_count": 66,
   "id": "d5fec793",
   "metadata": {},
   "outputs": [
    {
     "data": {
      "image/png": "[encoded data removed]",
      "text/plain": [
       "<Figure size 432x288 with 1 Axes>"
      ]
     },
     "metadata": {
      "needs_background": "light"
     },
     "output_type": "display_data"
    }
   ],
   "source": [
    "logit_roc_auc = roc_auc_score(yb_train, y_train_pred)\n",
    "fpr, tpr, thresholds = roc_curve(yb_train, logreg.predict_proba(Xb_train)[:,1])\n",
    "plt.figure()\n",
    "plt.plot(fpr, tpr, label='Logistic Regression (area = %0.2f)' % logit_roc_auc)\n",
    "plt.plot([0, 1], [0, 1],'r--')\n",
    "plt.xlim([0.0, 1.0])\n",
    "plt.ylim([0.0, 1.05])\n",
    "plt.xlabel('False Positive Rate')\n",
    "plt.ylabel('True Positive Rate')\n",
    "plt.title('Receiver operating characteristic')\n",
    "plt.legend(loc=\"lower right\")\n",
    "plt.savefig('Log_ROC')\n",
    "plt.show()\n"
   ]
  },
  {
   "cell_type": "code",
   "execution_count": null,
   "id": "ee6e297f",
   "metadata": {},
   "outputs": [],
   "source": []
  },
  {
   "cell_type": "code",
   "execution_count": 67,
   "id": "8269355e",
   "metadata": {},
   "outputs": [
    {
     "name": "stdout",
     "output_type": "stream",
     "text": [
      "0.5557237604477427\n",
      "0.5316545269275768\n",
      "0.5434227561714777\n"
     ]
    }
   ],
   "source": [
    "print(precision_score(yb_train, y_train_pred))\n",
    "print(recall_score(yb_train, y_train_pred))\n",
    "print(f1_score(yb_train, y_train_pred))"
   ]
  },
  {
   "cell_type": "code",
   "execution_count": null,
   "id": "db6d093a",
   "metadata": {},
   "outputs": [],
   "source": []
  },
  {
   "cell_type": "code",
   "execution_count": 68,
   "id": "583acc59",
   "metadata": {},
   "outputs": [
    {
     "name": "stdout",
     "output_type": "stream",
     "text": [
      "Accuracy of logistic regression classifier on test set: 55.60\n"
     ]
    }
   ],
   "source": [
    "y_pred = logreg.predict(X_test)\n",
    "print('Accuracy of logistic regression classifier on test set: {:.2f}'.format(accuracy_score(y_test, y_pred)*100))"
   ]
  },
  {
   "cell_type": "code",
   "execution_count": 69,
   "id": "cc4f0e1b",
   "metadata": {},
   "outputs": [
    {
     "data": {
      "image/png": "[encoded data removed]",
      "text/plain": [
       "<Figure size 432x288 with 1 Axes>"
      ]
     },
     "metadata": {
      "needs_background": "light"
     },
     "output_type": "display_data"
    }
   ],
   "source": [
    "logit_roc_auc = roc_auc_score(y_test, y_pred)\n",
    "fpr, tpr, thresholds = roc_curve(y_test, logreg.predict_proba(X_test)[:,1])\n",
    "plt.figure()\n",
    "plt.plot(fpr, tpr, label='Logistic Regression (area = %0.2f)' % logit_roc_auc)\n",
    "plt.plot([0, 1], [0, 1],'r--')\n",
    "plt.xlim([0.0, 1.0])\n",
    "plt.ylim([0.0, 1.05])\n",
    "plt.xlabel('False Positive Rate')\n",
    "plt.ylabel('True Positive Rate')\n",
    "plt.title('Receiver operating characteristic')\n",
    "plt.legend(loc=\"lower right\")\n",
    "plt.savefig('Log_ROC')\n",
    "plt.show()\n"
   ]
  },
  {
   "cell_type": "code",
   "execution_count": null,
   "id": "af07879f",
   "metadata": {},
   "outputs": [],
   "source": []
  },
  {
   "cell_type": "code",
   "execution_count": 70,
   "id": "f91c8f9c",
   "metadata": {},
   "outputs": [
    {
     "name": "stdout",
     "output_type": "stream",
     "text": [
      "0.5584858827179646\n",
      "0.5345778532032245\n",
      "0.5462704038499057\n"
     ]
    }
   ],
   "source": [
    "print(precision_score(y_test, y_pred))\n",
    "print(recall_score(y_test, y_pred))\n",
    "print(f1_score(y_test, y_pred))"
   ]
  },
  {
   "cell_type": "code",
   "execution_count": null,
   "id": "cd0b7f40",
   "metadata": {},
   "outputs": [],
   "source": []
  },
  {
   "cell_type": "code",
   "execution_count": null,
   "id": "48cff915",
   "metadata": {},
   "outputs": [],
   "source": []
  },
  {
   "cell_type": "code",
   "execution_count": 71,
   "id": "4302c154",
   "metadata": {},
   "outputs": [],
   "source": [
    "###   df[X.OBS_60_CNT_SOCIAL_CIRCLE >=300]   ---------------          outlier"
   ]
  },
  {
   "cell_type": "markdown",
   "id": "873d3d3e",
   "metadata": {},
   "source": [
    "### Combing the other csv files"
   ]
  },
  {
   "cell_type": "code",
   "execution_count": 72,
   "id": "af904e68",
   "metadata": {},
   "outputs": [],
   "source": [
    "# iv = []\n",
    "# continuos_insignificance = [ ]\n",
    "# for i in col:\n",
    "#     var = i\n",
    "#     y_var = 'TARGET'\n",
    "    \n",
    "#     if var != y_var:\n",
    "#         bin_object = Binning(y_var, n_threshold=50, y_threshold=10, p_threshold=0.35, sign=False)\n",
    "#         bin_object.fit(df[[y_var, var]])\n",
    "#         iv = round(np.sum(bin_object.woe_summary['IV_components']),4)\n",
    "#         print(var, ':', iv )\n",
    "#         if iv < 0.03:\n",
    "#             continuos_insignificance.append(var)\n",
    "#         #j = 'WOE_' + i\n",
    "#         #plt.plot(bin_object.woe_summary[j])\n",
    "#         #plt.show()\n",
    "        "
   ]
  },
  {
   "cell_type": "code",
   "execution_count": 73,
   "id": "71e69440",
   "metadata": {},
   "outputs": [],
   "source": [
    "continuos_insignificance = ['SK_ID_PREV','AMT_APPLICATION','AMT_DOWN_PAYMENT','NFLAG_LAST_APPL_IN_DAY','RATE_DOWN_PAYMENT',\n",
    "                            'RATE_INTEREST_PRIMARY','RATE_INTEREST_PRIVILEGED','SELLERPLACE_AREA','CNT_PAYMENT',\n",
    "                            'DAYS_FIRST_DRAWING','DAYS_FIRST_DUE','DAYS_LAST_DUE','DAYS_TERMINATION','NFLAG_INSURED_ON_APPROVAL',\n",
    "                            'NUM_INSTALMENT_VERSION','NUM_INSTALMENT_NUMBER','AMT_INSTALMENT','AMT_PAYMENT','MONTHS_BALANCE',\n",
    "                            'CNT_INSTALMENT','CNT_INSTALMENT_FUTURE','SK_DPD','AMT_CREDIT_LIMIT_ACTUAL',\n",
    "                            'AMT_DRAWINGS_OTHER_CURRENT','AMT_DRAWINGS_POS_CURRENT','AMT_PAYMENT_CURRENT',\n",
    "                            'CNT_DRAWINGS_OTHER_CURRENT','SK_ID_BUREAU','CREDIT_DAY_OVERDUE','CNT_CREDIT_PROLONG',\n",
    "                            'AMT_CREDIT_SUM','AMT_CREDIT_SUM_LIMIT','AMT_CREDIT_SUM_OVERDUE']"
   ]
  },
  {
   "cell_type": "code",
   "execution_count": null,
   "id": "abf8624f",
   "metadata": {},
   "outputs": [],
   "source": []
  },
  {
   "cell_type": "code",
   "execution_count": 74,
   "id": "4552ee53",
   "metadata": {},
   "outputs": [],
   "source": [
    "new_df = pd.read_csv('TRAIN.csv')"
   ]
  },
  {
   "cell_type": "code",
   "execution_count": 75,
   "id": "bdb0b961",
   "metadata": {},
   "outputs": [],
   "source": [
    "f = pd.read_csv('application_train.csv')"
   ]
  },
  {
   "cell_type": "code",
   "execution_count": 76,
   "id": "e8bca9c9",
   "metadata": {},
   "outputs": [],
   "source": [
    "keep = list(df.columns)"
   ]
  },
  {
   "cell_type": "code",
   "execution_count": 77,
   "id": "46a83f90",
   "metadata": {},
   "outputs": [],
   "source": [
    "f_col = list(f.columns)"
   ]
  },
  {
   "cell_type": "code",
   "execution_count": 78,
   "id": "99d1b14c",
   "metadata": {},
   "outputs": [],
   "source": [
    "delete_col = []"
   ]
  },
  {
   "cell_type": "code",
   "execution_count": 79,
   "id": "cb0c3fe5",
   "metadata": {},
   "outputs": [],
   "source": [
    "for i in f_col:\n",
    "    if i not in keep:\n",
    "        delete_col.append(i)"
   ]
  },
  {
   "cell_type": "code",
   "execution_count": 80,
   "id": "d23de99a",
   "metadata": {},
   "outputs": [],
   "source": [
    "delete_col.remove('FONDKAPREMONT_MODE')"
   ]
  },
  {
   "cell_type": "code",
   "execution_count": 81,
   "id": "acdfc1ad",
   "metadata": {},
   "outputs": [],
   "source": [
    "new_df.drop(delete_col, axis=1, inplace=True)"
   ]
  },
  {
   "cell_type": "code",
   "execution_count": 82,
   "id": "9ee1512e",
   "metadata": {},
   "outputs": [],
   "source": [
    "new_df.drop('index', axis=1, inplace=True)"
   ]
  },
  {
   "cell_type": "code",
   "execution_count": 83,
   "id": "ebf632b3",
   "metadata": {},
   "outputs": [
    {
     "data": {
      "text/html": [
       "<div>\n",
       "<style scoped>\n",
       "    .dataframe tbody tr th:only-of-type {\n",
       "        vertical-align: middle;\n",
       "    }\n",
       "\n",
       "    .dataframe tbody tr th {\n",
       "        vertical-align: top;\n",
       "    }\n",
       "\n",
       "    .dataframe thead th {\n",
       "        text-align: right;\n",
       "    }\n",
       "</style>\n",
       "<table border=\"1\" class=\"dataframe\">\n",
       "  <thead>\n",
       "    <tr style=\"text-align: right;\">\n",
       "      <th></th>\n",
       "      <th>SK_ID_CURR</th>\n",
       "      <th>CNT_CHILDREN</th>\n",
       "      <th>DAYS_BIRTH</th>\n",
       "      <th>DAYS_EMPLOYED</th>\n",
       "      <th>DAYS_REGISTRATION</th>\n",
       "      <th>DAYS_ID_PUBLISH</th>\n",
       "      <th>FLAG_MOBIL</th>\n",
       "      <th>FLAG_EMP_PHONE</th>\n",
       "      <th>FLAG_WORK_PHONE</th>\n",
       "      <th>FLAG_CONT_MOBILE</th>\n",
       "      <th>FLAG_PHONE</th>\n",
       "      <th>FLAG_EMAIL</th>\n",
       "      <th>CNT_FAM_MEMBERS</th>\n",
       "      <th>REGION_RATING_CLIENT</th>\n",
       "      <th>REGION_RATING_CLIENT_W_CITY</th>\n",
       "      <th>HOUR_APPR_PROCESS_START</th>\n",
       "      <th>REG_REGION_NOT_LIVE_REGION</th>\n",
       "      <th>REG_REGION_NOT_WORK_REGION</th>\n",
       "      <th>LIVE_REGION_NOT_WORK_REGION</th>\n",
       "      <th>REG_CITY_NOT_LIVE_CITY</th>\n",
       "      <th>REG_CITY_NOT_WORK_CITY</th>\n",
       "      <th>LIVE_CITY_NOT_WORK_CITY</th>\n",
       "      <th>OBS_30_CNT_SOCIAL_CIRCLE</th>\n",
       "      <th>DEF_30_CNT_SOCIAL_CIRCLE</th>\n",
       "      <th>OBS_60_CNT_SOCIAL_CIRCLE</th>\n",
       "      <th>DEF_60_CNT_SOCIAL_CIRCLE</th>\n",
       "      <th>DAYS_LAST_PHONE_CHANGE</th>\n",
       "      <th>FLAG_DOCUMENT_4</th>\n",
       "      <th>FLAG_DOCUMENT_5</th>\n",
       "      <th>FLAG_DOCUMENT_7</th>\n",
       "      <th>FLAG_DOCUMENT_10</th>\n",
       "      <th>FLAG_DOCUMENT_12</th>\n",
       "      <th>FLAG_DOCUMENT_19</th>\n",
       "      <th>FLAG_DOCUMENT_20</th>\n",
       "      <th>AMT_REQ_CREDIT_BUREAU_HOUR</th>\n",
       "      <th>AMT_REQ_CREDIT_BUREAU_DAY</th>\n",
       "      <th>AMT_REQ_CREDIT_BUREAU_WEEK</th>\n",
       "      <th>AMT_REQ_CREDIT_BUREAU_MON</th>\n",
       "      <th>AMT_REQ_CREDIT_BUREAU_QRT</th>\n",
       "      <th>AMT_REQ_CREDIT_BUREAU_YEAR</th>\n",
       "      <th>TARGET</th>\n",
       "      <th>SK_ID_PREV</th>\n",
       "      <th>AMT_APPLICATION</th>\n",
       "      <th>AMT_DOWN_PAYMENT</th>\n",
       "      <th>NFLAG_LAST_APPL_IN_DAY</th>\n",
       "      <th>RATE_DOWN_PAYMENT</th>\n",
       "      <th>RATE_INTEREST_PRIMARY</th>\n",
       "      <th>RATE_INTEREST_PRIVILEGED</th>\n",
       "      <th>DAYS_DECISION</th>\n",
       "      <th>SELLERPLACE_AREA</th>\n",
       "      <th>CNT_PAYMENT</th>\n",
       "      <th>DAYS_FIRST_DRAWING</th>\n",
       "      <th>DAYS_FIRST_DUE</th>\n",
       "      <th>DAYS_LAST_DUE_1ST_VERSION</th>\n",
       "      <th>DAYS_LAST_DUE</th>\n",
       "      <th>DAYS_TERMINATION</th>\n",
       "      <th>NFLAG_INSURED_ON_APPROVAL</th>\n",
       "      <th>NUM_INSTALMENT_VERSION</th>\n",
       "      <th>NUM_INSTALMENT_NUMBER</th>\n",
       "      <th>DAYS_INSTALMENT</th>\n",
       "      <th>DAYS_ENTRY_PAYMENT</th>\n",
       "      <th>AMT_INSTALMENT</th>\n",
       "      <th>AMT_PAYMENT</th>\n",
       "      <th>MONTHS_BALANCE</th>\n",
       "      <th>CNT_INSTALMENT</th>\n",
       "      <th>CNT_INSTALMENT_FUTURE</th>\n",
       "      <th>SK_DPD</th>\n",
       "      <th>SK_DPD_DEF</th>\n",
       "      <th>AMT_BALANCE</th>\n",
       "      <th>AMT_CREDIT_LIMIT_ACTUAL</th>\n",
       "      <th>AMT_DRAWINGS_ATM_CURRENT</th>\n",
       "      <th>AMT_DRAWINGS_CURRENT</th>\n",
       "      <th>AMT_DRAWINGS_OTHER_CURRENT</th>\n",
       "      <th>AMT_DRAWINGS_POS_CURRENT</th>\n",
       "      <th>AMT_INST_MIN_REGULARITY</th>\n",
       "      <th>AMT_PAYMENT_CURRENT</th>\n",
       "      <th>AMT_PAYMENT_TOTAL_CURRENT</th>\n",
       "      <th>AMT_RECEIVABLE_PRINCIPAL</th>\n",
       "      <th>AMT_RECIVABLE</th>\n",
       "      <th>AMT_TOTAL_RECEIVABLE</th>\n",
       "      <th>CNT_DRAWINGS_ATM_CURRENT</th>\n",
       "      <th>CNT_DRAWINGS_CURRENT</th>\n",
       "      <th>CNT_DRAWINGS_OTHER_CURRENT</th>\n",
       "      <th>CNT_DRAWINGS_POS_CURRENT</th>\n",
       "      <th>CNT_INSTALMENT_MATURE_CUM</th>\n",
       "      <th>SK_ID_BUREAU</th>\n",
       "      <th>DAYS_CREDIT</th>\n",
       "      <th>CREDIT_DAY_OVERDUE</th>\n",
       "      <th>DAYS_CREDIT_ENDDATE</th>\n",
       "      <th>DAYS_ENDDATE_FACT</th>\n",
       "      <th>AMT_CREDIT_MAX_OVERDUE</th>\n",
       "      <th>CNT_CREDIT_PROLONG</th>\n",
       "      <th>AMT_CREDIT_SUM</th>\n",
       "      <th>AMT_CREDIT_SUM_DEBT</th>\n",
       "      <th>AMT_CREDIT_SUM_LIMIT</th>\n",
       "      <th>AMT_CREDIT_SUM_OVERDUE</th>\n",
       "      <th>DAYS_CREDIT_UPDATE</th>\n",
       "    </tr>\n",
       "  </thead>\n",
       "  <tbody>\n",
       "    <tr>\n",
       "      <th>0</th>\n",
       "      <td>100002</td>\n",
       "      <td>0.0</td>\n",
       "      <td>-9461.0</td>\n",
       "      <td>-637.0</td>\n",
       "      <td>-3648.0</td>\n",
       "      <td>-2120.0</td>\n",
       "      <td>1.0</td>\n",
       "      <td>1.0</td>\n",
       "      <td>0.0</td>\n",
       "      <td>1.0</td>\n",
       "      <td>1.0</td>\n",
       "      <td>0.0</td>\n",
       "      <td>1.0</td>\n",
       "      <td>2.0</td>\n",
       "      <td>2.0</td>\n",
       "      <td>10.0</td>\n",
       "      <td>0.0</td>\n",
       "      <td>0.0</td>\n",
       "      <td>0.0</td>\n",
       "      <td>0.0</td>\n",
       "      <td>0.0</td>\n",
       "      <td>0.0</td>\n",
       "      <td>2.0</td>\n",
       "      <td>2.0</td>\n",
       "      <td>2.0</td>\n",
       "      <td>2.0</td>\n",
       "      <td>-1134.0</td>\n",
       "      <td>0.0</td>\n",
       "      <td>0.0</td>\n",
       "      <td>0.0</td>\n",
       "      <td>0.0</td>\n",
       "      <td>0.0</td>\n",
       "      <td>0.0</td>\n",
       "      <td>0.0</td>\n",
       "      <td>0.0</td>\n",
       "      <td>0.0</td>\n",
       "      <td>0.0</td>\n",
       "      <td>0.0</td>\n",
       "      <td>0.0</td>\n",
       "      <td>1.0</td>\n",
       "      <td>1.0</td>\n",
       "      <td>1038818.0</td>\n",
       "      <td>179055.00</td>\n",
       "      <td>0.00</td>\n",
       "      <td>1.0</td>\n",
       "      <td>0.000000</td>\n",
       "      <td>NaN</td>\n",
       "      <td>NaN</td>\n",
       "      <td>-606.0</td>\n",
       "      <td>500.0</td>\n",
       "      <td>24.0</td>\n",
       "      <td>365243.0</td>\n",
       "      <td>-565.0</td>\n",
       "      <td>125.0</td>\n",
       "      <td>-25.0</td>\n",
       "      <td>-17.0</td>\n",
       "      <td>0.0</td>\n",
       "      <td>1.052632</td>\n",
       "      <td>10.000000</td>\n",
       "      <td>-295.000000</td>\n",
       "      <td>-315.421053</td>\n",
       "      <td>11559.247105</td>\n",
       "      <td>11559.247105</td>\n",
       "      <td>-10.00</td>\n",
       "      <td>24.000000</td>\n",
       "      <td>15.000000</td>\n",
       "      <td>0.000000</td>\n",
       "      <td>0.000000</td>\n",
       "      <td>NaN</td>\n",
       "      <td>NaN</td>\n",
       "      <td>NaN</td>\n",
       "      <td>NaN</td>\n",
       "      <td>NaN</td>\n",
       "      <td>NaN</td>\n",
       "      <td>NaN</td>\n",
       "      <td>NaN</td>\n",
       "      <td>NaN</td>\n",
       "      <td>NaN</td>\n",
       "      <td>NaN</td>\n",
       "      <td>NaN</td>\n",
       "      <td>NaN</td>\n",
       "      <td>NaN</td>\n",
       "      <td>NaN</td>\n",
       "      <td>NaN</td>\n",
       "      <td>NaN</td>\n",
       "      <td>6158905.5</td>\n",
       "      <td>-1042.5</td>\n",
       "      <td>0.0</td>\n",
       "      <td>-424.5</td>\n",
       "      <td>-939.0</td>\n",
       "      <td>40.500</td>\n",
       "      <td>0.0</td>\n",
       "      <td>54130.50</td>\n",
       "      <td>0.000</td>\n",
       "      <td>0.0</td>\n",
       "      <td>0.0</td>\n",
       "      <td>-402.5</td>\n",
       "    </tr>\n",
       "    <tr>\n",
       "      <th>1</th>\n",
       "      <td>100003</td>\n",
       "      <td>0.0</td>\n",
       "      <td>-16765.0</td>\n",
       "      <td>-1188.0</td>\n",
       "      <td>-1186.0</td>\n",
       "      <td>-291.0</td>\n",
       "      <td>1.0</td>\n",
       "      <td>1.0</td>\n",
       "      <td>0.0</td>\n",
       "      <td>1.0</td>\n",
       "      <td>1.0</td>\n",
       "      <td>0.0</td>\n",
       "      <td>2.0</td>\n",
       "      <td>1.0</td>\n",
       "      <td>1.0</td>\n",
       "      <td>11.0</td>\n",
       "      <td>0.0</td>\n",
       "      <td>0.0</td>\n",
       "      <td>0.0</td>\n",
       "      <td>0.0</td>\n",
       "      <td>0.0</td>\n",
       "      <td>0.0</td>\n",
       "      <td>1.0</td>\n",
       "      <td>0.0</td>\n",
       "      <td>1.0</td>\n",
       "      <td>0.0</td>\n",
       "      <td>-828.0</td>\n",
       "      <td>0.0</td>\n",
       "      <td>0.0</td>\n",
       "      <td>0.0</td>\n",
       "      <td>0.0</td>\n",
       "      <td>0.0</td>\n",
       "      <td>0.0</td>\n",
       "      <td>0.0</td>\n",
       "      <td>0.0</td>\n",
       "      <td>0.0</td>\n",
       "      <td>0.0</td>\n",
       "      <td>0.0</td>\n",
       "      <td>0.0</td>\n",
       "      <td>0.0</td>\n",
       "      <td>0.0</td>\n",
       "      <td>2396755.0</td>\n",
       "      <td>337500.00</td>\n",
       "      <td>3442.50</td>\n",
       "      <td>1.0</td>\n",
       "      <td>0.050030</td>\n",
       "      <td>NaN</td>\n",
       "      <td>NaN</td>\n",
       "      <td>-828.0</td>\n",
       "      <td>200.0</td>\n",
       "      <td>12.0</td>\n",
       "      <td>365243.0</td>\n",
       "      <td>-797.0</td>\n",
       "      <td>-647.0</td>\n",
       "      <td>-647.0</td>\n",
       "      <td>-639.0</td>\n",
       "      <td>1.0</td>\n",
       "      <td>1.000000</td>\n",
       "      <td>4.000000</td>\n",
       "      <td>-722.000000</td>\n",
       "      <td>-733.166667</td>\n",
       "      <td>64518.990000</td>\n",
       "      <td>64518.990000</td>\n",
       "      <td>-24.50</td>\n",
       "      <td>11.375000</td>\n",
       "      <td>6.500000</td>\n",
       "      <td>0.000000</td>\n",
       "      <td>0.000000</td>\n",
       "      <td>NaN</td>\n",
       "      <td>NaN</td>\n",
       "      <td>NaN</td>\n",
       "      <td>NaN</td>\n",
       "      <td>NaN</td>\n",
       "      <td>NaN</td>\n",
       "      <td>NaN</td>\n",
       "      <td>NaN</td>\n",
       "      <td>NaN</td>\n",
       "      <td>NaN</td>\n",
       "      <td>NaN</td>\n",
       "      <td>NaN</td>\n",
       "      <td>NaN</td>\n",
       "      <td>NaN</td>\n",
       "      <td>NaN</td>\n",
       "      <td>NaN</td>\n",
       "      <td>NaN</td>\n",
       "      <td>5885878.5</td>\n",
       "      <td>-1205.5</td>\n",
       "      <td>0.0</td>\n",
       "      <td>-480.0</td>\n",
       "      <td>-621.0</td>\n",
       "      <td>0.000</td>\n",
       "      <td>0.0</td>\n",
       "      <td>92576.25</td>\n",
       "      <td>0.000</td>\n",
       "      <td>0.0</td>\n",
       "      <td>0.0</td>\n",
       "      <td>-545.0</td>\n",
       "    </tr>\n",
       "    <tr>\n",
       "      <th>2</th>\n",
       "      <td>100004</td>\n",
       "      <td>0.0</td>\n",
       "      <td>-19046.0</td>\n",
       "      <td>-225.0</td>\n",
       "      <td>-4260.0</td>\n",
       "      <td>-2531.0</td>\n",
       "      <td>1.0</td>\n",
       "      <td>1.0</td>\n",
       "      <td>1.0</td>\n",
       "      <td>1.0</td>\n",
       "      <td>1.0</td>\n",
       "      <td>0.0</td>\n",
       "      <td>1.0</td>\n",
       "      <td>2.0</td>\n",
       "      <td>2.0</td>\n",
       "      <td>9.0</td>\n",
       "      <td>0.0</td>\n",
       "      <td>0.0</td>\n",
       "      <td>0.0</td>\n",
       "      <td>0.0</td>\n",
       "      <td>0.0</td>\n",
       "      <td>0.0</td>\n",
       "      <td>0.0</td>\n",
       "      <td>0.0</td>\n",
       "      <td>0.0</td>\n",
       "      <td>0.0</td>\n",
       "      <td>-815.0</td>\n",
       "      <td>0.0</td>\n",
       "      <td>0.0</td>\n",
       "      <td>0.0</td>\n",
       "      <td>0.0</td>\n",
       "      <td>0.0</td>\n",
       "      <td>0.0</td>\n",
       "      <td>0.0</td>\n",
       "      <td>0.0</td>\n",
       "      <td>0.0</td>\n",
       "      <td>0.0</td>\n",
       "      <td>0.0</td>\n",
       "      <td>0.0</td>\n",
       "      <td>0.0</td>\n",
       "      <td>0.0</td>\n",
       "      <td>1564014.0</td>\n",
       "      <td>24282.00</td>\n",
       "      <td>4860.00</td>\n",
       "      <td>1.0</td>\n",
       "      <td>0.212008</td>\n",
       "      <td>NaN</td>\n",
       "      <td>NaN</td>\n",
       "      <td>-815.0</td>\n",
       "      <td>30.0</td>\n",
       "      <td>4.0</td>\n",
       "      <td>365243.0</td>\n",
       "      <td>-784.0</td>\n",
       "      <td>-694.0</td>\n",
       "      <td>-724.0</td>\n",
       "      <td>-714.0</td>\n",
       "      <td>0.0</td>\n",
       "      <td>1.333333</td>\n",
       "      <td>2.000000</td>\n",
       "      <td>-754.000000</td>\n",
       "      <td>-761.666667</td>\n",
       "      <td>7096.155000</td>\n",
       "      <td>7096.155000</td>\n",
       "      <td>-25.50</td>\n",
       "      <td>3.750000</td>\n",
       "      <td>2.250000</td>\n",
       "      <td>0.000000</td>\n",
       "      <td>0.000000</td>\n",
       "      <td>NaN</td>\n",
       "      <td>NaN</td>\n",
       "      <td>NaN</td>\n",
       "      <td>NaN</td>\n",
       "      <td>NaN</td>\n",
       "      <td>NaN</td>\n",
       "      <td>NaN</td>\n",
       "      <td>NaN</td>\n",
       "      <td>NaN</td>\n",
       "      <td>NaN</td>\n",
       "      <td>NaN</td>\n",
       "      <td>NaN</td>\n",
       "      <td>NaN</td>\n",
       "      <td>NaN</td>\n",
       "      <td>NaN</td>\n",
       "      <td>NaN</td>\n",
       "      <td>NaN</td>\n",
       "      <td>6829133.5</td>\n",
       "      <td>-867.0</td>\n",
       "      <td>0.0</td>\n",
       "      <td>-488.5</td>\n",
       "      <td>-532.5</td>\n",
       "      <td>0.000</td>\n",
       "      <td>0.0</td>\n",
       "      <td>94518.90</td>\n",
       "      <td>0.000</td>\n",
       "      <td>0.0</td>\n",
       "      <td>0.0</td>\n",
       "      <td>-532.0</td>\n",
       "    </tr>\n",
       "    <tr>\n",
       "      <th>3</th>\n",
       "      <td>100006</td>\n",
       "      <td>0.0</td>\n",
       "      <td>-19005.0</td>\n",
       "      <td>-3039.0</td>\n",
       "      <td>-9833.0</td>\n",
       "      <td>-2437.0</td>\n",
       "      <td>1.0</td>\n",
       "      <td>1.0</td>\n",
       "      <td>0.0</td>\n",
       "      <td>1.0</td>\n",
       "      <td>0.0</td>\n",
       "      <td>0.0</td>\n",
       "      <td>2.0</td>\n",
       "      <td>2.0</td>\n",
       "      <td>2.0</td>\n",
       "      <td>17.0</td>\n",
       "      <td>0.0</td>\n",
       "      <td>0.0</td>\n",
       "      <td>0.0</td>\n",
       "      <td>0.0</td>\n",
       "      <td>0.0</td>\n",
       "      <td>0.0</td>\n",
       "      <td>2.0</td>\n",
       "      <td>0.0</td>\n",
       "      <td>2.0</td>\n",
       "      <td>0.0</td>\n",
       "      <td>-617.0</td>\n",
       "      <td>0.0</td>\n",
       "      <td>0.0</td>\n",
       "      <td>0.0</td>\n",
       "      <td>0.0</td>\n",
       "      <td>0.0</td>\n",
       "      <td>0.0</td>\n",
       "      <td>0.0</td>\n",
       "      <td>NaN</td>\n",
       "      <td>NaN</td>\n",
       "      <td>NaN</td>\n",
       "      <td>NaN</td>\n",
       "      <td>NaN</td>\n",
       "      <td>NaN</td>\n",
       "      <td>0.0</td>\n",
       "      <td>2078043.0</td>\n",
       "      <td>270000.00</td>\n",
       "      <td>34840.17</td>\n",
       "      <td>1.0</td>\n",
       "      <td>0.163412</td>\n",
       "      <td>NaN</td>\n",
       "      <td>NaN</td>\n",
       "      <td>-181.0</td>\n",
       "      <td>-1.0</td>\n",
       "      <td>15.0</td>\n",
       "      <td>365243.0</td>\n",
       "      <td>-216.0</td>\n",
       "      <td>654.0</td>\n",
       "      <td>182546.0</td>\n",
       "      <td>182550.0</td>\n",
       "      <td>0.0</td>\n",
       "      <td>1.200000</td>\n",
       "      <td>3.000000</td>\n",
       "      <td>-151.000000</td>\n",
       "      <td>-174.000000</td>\n",
       "      <td>29027.520000</td>\n",
       "      <td>29027.520000</td>\n",
       "      <td>-5.50</td>\n",
       "      <td>12.000000</td>\n",
       "      <td>7.500000</td>\n",
       "      <td>0.000000</td>\n",
       "      <td>0.000000</td>\n",
       "      <td>0.0</td>\n",
       "      <td>270000.0</td>\n",
       "      <td>NaN</td>\n",
       "      <td>0.0</td>\n",
       "      <td>NaN</td>\n",
       "      <td>NaN</td>\n",
       "      <td>0.0</td>\n",
       "      <td>NaN</td>\n",
       "      <td>0.0</td>\n",
       "      <td>0.0</td>\n",
       "      <td>0.0</td>\n",
       "      <td>0.0</td>\n",
       "      <td>NaN</td>\n",
       "      <td>0.0</td>\n",
       "      <td>NaN</td>\n",
       "      <td>NaN</td>\n",
       "      <td>0.0</td>\n",
       "      <td>NaN</td>\n",
       "      <td>NaN</td>\n",
       "      <td>NaN</td>\n",
       "      <td>NaN</td>\n",
       "      <td>NaN</td>\n",
       "      <td>NaN</td>\n",
       "      <td>NaN</td>\n",
       "      <td>NaN</td>\n",
       "      <td>NaN</td>\n",
       "      <td>NaN</td>\n",
       "      <td>NaN</td>\n",
       "      <td>NaN</td>\n",
       "    </tr>\n",
       "    <tr>\n",
       "      <th>4</th>\n",
       "      <td>100007</td>\n",
       "      <td>0.0</td>\n",
       "      <td>-19932.0</td>\n",
       "      <td>-3038.0</td>\n",
       "      <td>-4311.0</td>\n",
       "      <td>-3458.0</td>\n",
       "      <td>1.0</td>\n",
       "      <td>1.0</td>\n",
       "      <td>0.0</td>\n",
       "      <td>1.0</td>\n",
       "      <td>0.0</td>\n",
       "      <td>0.0</td>\n",
       "      <td>1.0</td>\n",
       "      <td>2.0</td>\n",
       "      <td>2.0</td>\n",
       "      <td>11.0</td>\n",
       "      <td>0.0</td>\n",
       "      <td>0.0</td>\n",
       "      <td>0.0</td>\n",
       "      <td>0.0</td>\n",
       "      <td>1.0</td>\n",
       "      <td>1.0</td>\n",
       "      <td>0.0</td>\n",
       "      <td>0.0</td>\n",
       "      <td>0.0</td>\n",
       "      <td>0.0</td>\n",
       "      <td>-1106.0</td>\n",
       "      <td>0.0</td>\n",
       "      <td>0.0</td>\n",
       "      <td>0.0</td>\n",
       "      <td>0.0</td>\n",
       "      <td>0.0</td>\n",
       "      <td>0.0</td>\n",
       "      <td>0.0</td>\n",
       "      <td>0.0</td>\n",
       "      <td>0.0</td>\n",
       "      <td>0.0</td>\n",
       "      <td>0.0</td>\n",
       "      <td>0.0</td>\n",
       "      <td>0.0</td>\n",
       "      <td>0.0</td>\n",
       "      <td>2060607.5</td>\n",
       "      <td>191250.00</td>\n",
       "      <td>3390.75</td>\n",
       "      <td>1.0</td>\n",
       "      <td>0.159516</td>\n",
       "      <td>NaN</td>\n",
       "      <td>NaN</td>\n",
       "      <td>-986.5</td>\n",
       "      <td>28.5</td>\n",
       "      <td>15.0</td>\n",
       "      <td>365243.0</td>\n",
       "      <td>-1076.0</td>\n",
       "      <td>-746.0</td>\n",
       "      <td>-746.0</td>\n",
       "      <td>-739.0</td>\n",
       "      <td>1.0</td>\n",
       "      <td>1.000000</td>\n",
       "      <td>6.500000</td>\n",
       "      <td>-923.692308</td>\n",
       "      <td>-926.615385</td>\n",
       "      <td>16037.640000</td>\n",
       "      <td>16037.640000</td>\n",
       "      <td>-30.00</td>\n",
       "      <td>12.000000</td>\n",
       "      <td>6.000000</td>\n",
       "      <td>0.000000</td>\n",
       "      <td>0.000000</td>\n",
       "      <td>NaN</td>\n",
       "      <td>NaN</td>\n",
       "      <td>NaN</td>\n",
       "      <td>NaN</td>\n",
       "      <td>NaN</td>\n",
       "      <td>NaN</td>\n",
       "      <td>NaN</td>\n",
       "      <td>NaN</td>\n",
       "      <td>NaN</td>\n",
       "      <td>NaN</td>\n",
       "      <td>NaN</td>\n",
       "      <td>NaN</td>\n",
       "      <td>NaN</td>\n",
       "      <td>NaN</td>\n",
       "      <td>NaN</td>\n",
       "      <td>NaN</td>\n",
       "      <td>NaN</td>\n",
       "      <td>5987200.0</td>\n",
       "      <td>-1149.0</td>\n",
       "      <td>0.0</td>\n",
       "      <td>-783.0</td>\n",
       "      <td>-783.0</td>\n",
       "      <td>0.000</td>\n",
       "      <td>0.0</td>\n",
       "      <td>146250.00</td>\n",
       "      <td>0.000</td>\n",
       "      <td>0.0</td>\n",
       "      <td>0.0</td>\n",
       "      <td>-783.0</td>\n",
       "    </tr>\n",
       "    <tr>\n",
       "      <th>...</th>\n",
       "      <td>...</td>\n",
       "      <td>...</td>\n",
       "      <td>...</td>\n",
       "      <td>...</td>\n",
       "      <td>...</td>\n",
       "      <td>...</td>\n",
       "      <td>...</td>\n",
       "      <td>...</td>\n",
       "      <td>...</td>\n",
       "      <td>...</td>\n",
       "      <td>...</td>\n",
       "      <td>...</td>\n",
       "      <td>...</td>\n",
       "      <td>...</td>\n",
       "      <td>...</td>\n",
       "      <td>...</td>\n",
       "      <td>...</td>\n",
       "      <td>...</td>\n",
       "      <td>...</td>\n",
       "      <td>...</td>\n",
       "      <td>...</td>\n",
       "      <td>...</td>\n",
       "      <td>...</td>\n",
       "      <td>...</td>\n",
       "      <td>...</td>\n",
       "      <td>...</td>\n",
       "      <td>...</td>\n",
       "      <td>...</td>\n",
       "      <td>...</td>\n",
       "      <td>...</td>\n",
       "      <td>...</td>\n",
       "      <td>...</td>\n",
       "      <td>...</td>\n",
       "      <td>...</td>\n",
       "      <td>...</td>\n",
       "      <td>...</td>\n",
       "      <td>...</td>\n",
       "      <td>...</td>\n",
       "      <td>...</td>\n",
       "      <td>...</td>\n",
       "      <td>...</td>\n",
       "      <td>...</td>\n",
       "      <td>...</td>\n",
       "      <td>...</td>\n",
       "      <td>...</td>\n",
       "      <td>...</td>\n",
       "      <td>...</td>\n",
       "      <td>...</td>\n",
       "      <td>...</td>\n",
       "      <td>...</td>\n",
       "      <td>...</td>\n",
       "      <td>...</td>\n",
       "      <td>...</td>\n",
       "      <td>...</td>\n",
       "      <td>...</td>\n",
       "      <td>...</td>\n",
       "      <td>...</td>\n",
       "      <td>...</td>\n",
       "      <td>...</td>\n",
       "      <td>...</td>\n",
       "      <td>...</td>\n",
       "      <td>...</td>\n",
       "      <td>...</td>\n",
       "      <td>...</td>\n",
       "      <td>...</td>\n",
       "      <td>...</td>\n",
       "      <td>...</td>\n",
       "      <td>...</td>\n",
       "      <td>...</td>\n",
       "      <td>...</td>\n",
       "      <td>...</td>\n",
       "      <td>...</td>\n",
       "      <td>...</td>\n",
       "      <td>...</td>\n",
       "      <td>...</td>\n",
       "      <td>...</td>\n",
       "      <td>...</td>\n",
       "      <td>...</td>\n",
       "      <td>...</td>\n",
       "      <td>...</td>\n",
       "      <td>...</td>\n",
       "      <td>...</td>\n",
       "      <td>...</td>\n",
       "      <td>...</td>\n",
       "      <td>...</td>\n",
       "      <td>...</td>\n",
       "      <td>...</td>\n",
       "      <td>...</td>\n",
       "      <td>...</td>\n",
       "      <td>...</td>\n",
       "      <td>...</td>\n",
       "      <td>...</td>\n",
       "      <td>...</td>\n",
       "      <td>...</td>\n",
       "      <td>...</td>\n",
       "      <td>...</td>\n",
       "      <td>...</td>\n",
       "    </tr>\n",
       "    <tr>\n",
       "      <th>307506</th>\n",
       "      <td>456251</td>\n",
       "      <td>0.0</td>\n",
       "      <td>-9327.0</td>\n",
       "      <td>-236.0</td>\n",
       "      <td>-8456.0</td>\n",
       "      <td>-1982.0</td>\n",
       "      <td>1.0</td>\n",
       "      <td>1.0</td>\n",
       "      <td>0.0</td>\n",
       "      <td>1.0</td>\n",
       "      <td>0.0</td>\n",
       "      <td>0.0</td>\n",
       "      <td>1.0</td>\n",
       "      <td>1.0</td>\n",
       "      <td>1.0</td>\n",
       "      <td>15.0</td>\n",
       "      <td>0.0</td>\n",
       "      <td>0.0</td>\n",
       "      <td>0.0</td>\n",
       "      <td>0.0</td>\n",
       "      <td>0.0</td>\n",
       "      <td>0.0</td>\n",
       "      <td>0.0</td>\n",
       "      <td>0.0</td>\n",
       "      <td>0.0</td>\n",
       "      <td>0.0</td>\n",
       "      <td>-273.0</td>\n",
       "      <td>0.0</td>\n",
       "      <td>0.0</td>\n",
       "      <td>0.0</td>\n",
       "      <td>0.0</td>\n",
       "      <td>0.0</td>\n",
       "      <td>0.0</td>\n",
       "      <td>0.0</td>\n",
       "      <td>NaN</td>\n",
       "      <td>NaN</td>\n",
       "      <td>NaN</td>\n",
       "      <td>NaN</td>\n",
       "      <td>NaN</td>\n",
       "      <td>NaN</td>\n",
       "      <td>0.0</td>\n",
       "      <td>2248017.0</td>\n",
       "      <td>40455.00</td>\n",
       "      <td>0.00</td>\n",
       "      <td>1.0</td>\n",
       "      <td>0.000000</td>\n",
       "      <td>NaN</td>\n",
       "      <td>NaN</td>\n",
       "      <td>-273.0</td>\n",
       "      <td>30.0</td>\n",
       "      <td>8.0</td>\n",
       "      <td>365243.0</td>\n",
       "      <td>-210.0</td>\n",
       "      <td>0.0</td>\n",
       "      <td>-30.0</td>\n",
       "      <td>-25.0</td>\n",
       "      <td>0.0</td>\n",
       "      <td>1.142857</td>\n",
       "      <td>4.000000</td>\n",
       "      <td>-120.000000</td>\n",
       "      <td>-156.285714</td>\n",
       "      <td>7492.924286</td>\n",
       "      <td>7492.924286</td>\n",
       "      <td>-5.00</td>\n",
       "      <td>7.875000</td>\n",
       "      <td>4.375000</td>\n",
       "      <td>0.000000</td>\n",
       "      <td>0.000000</td>\n",
       "      <td>NaN</td>\n",
       "      <td>NaN</td>\n",
       "      <td>NaN</td>\n",
       "      <td>NaN</td>\n",
       "      <td>NaN</td>\n",
       "      <td>NaN</td>\n",
       "      <td>NaN</td>\n",
       "      <td>NaN</td>\n",
       "      <td>NaN</td>\n",
       "      <td>NaN</td>\n",
       "      <td>NaN</td>\n",
       "      <td>NaN</td>\n",
       "      <td>NaN</td>\n",
       "      <td>NaN</td>\n",
       "      <td>NaN</td>\n",
       "      <td>NaN</td>\n",
       "      <td>NaN</td>\n",
       "      <td>NaN</td>\n",
       "      <td>NaN</td>\n",
       "      <td>NaN</td>\n",
       "      <td>NaN</td>\n",
       "      <td>NaN</td>\n",
       "      <td>NaN</td>\n",
       "      <td>NaN</td>\n",
       "      <td>NaN</td>\n",
       "      <td>NaN</td>\n",
       "      <td>NaN</td>\n",
       "      <td>NaN</td>\n",
       "      <td>NaN</td>\n",
       "    </tr>\n",
       "    <tr>\n",
       "      <th>307507</th>\n",
       "      <td>456252</td>\n",
       "      <td>0.0</td>\n",
       "      <td>-20775.0</td>\n",
       "      <td>365243.0</td>\n",
       "      <td>-4388.0</td>\n",
       "      <td>-4090.0</td>\n",
       "      <td>1.0</td>\n",
       "      <td>0.0</td>\n",
       "      <td>0.0</td>\n",
       "      <td>1.0</td>\n",
       "      <td>1.0</td>\n",
       "      <td>0.0</td>\n",
       "      <td>1.0</td>\n",
       "      <td>2.0</td>\n",
       "      <td>2.0</td>\n",
       "      <td>8.0</td>\n",
       "      <td>0.0</td>\n",
       "      <td>0.0</td>\n",
       "      <td>0.0</td>\n",
       "      <td>0.0</td>\n",
       "      <td>0.0</td>\n",
       "      <td>0.0</td>\n",
       "      <td>0.0</td>\n",
       "      <td>0.0</td>\n",
       "      <td>0.0</td>\n",
       "      <td>0.0</td>\n",
       "      <td>0.0</td>\n",
       "      <td>0.0</td>\n",
       "      <td>0.0</td>\n",
       "      <td>0.0</td>\n",
       "      <td>0.0</td>\n",
       "      <td>0.0</td>\n",
       "      <td>0.0</td>\n",
       "      <td>0.0</td>\n",
       "      <td>NaN</td>\n",
       "      <td>NaN</td>\n",
       "      <td>NaN</td>\n",
       "      <td>NaN</td>\n",
       "      <td>NaN</td>\n",
       "      <td>NaN</td>\n",
       "      <td>0.0</td>\n",
       "      <td>1503599.0</td>\n",
       "      <td>57595.50</td>\n",
       "      <td>3456.00</td>\n",
       "      <td>1.0</td>\n",
       "      <td>0.062443</td>\n",
       "      <td>NaN</td>\n",
       "      <td>NaN</td>\n",
       "      <td>-2497.0</td>\n",
       "      <td>190.0</td>\n",
       "      <td>6.0</td>\n",
       "      <td>365243.0</td>\n",
       "      <td>-2466.0</td>\n",
       "      <td>-2316.0</td>\n",
       "      <td>-2316.0</td>\n",
       "      <td>-2311.0</td>\n",
       "      <td>1.0</td>\n",
       "      <td>1.000000</td>\n",
       "      <td>3.500000</td>\n",
       "      <td>-2391.000000</td>\n",
       "      <td>-2393.833333</td>\n",
       "      <td>10069.867500</td>\n",
       "      <td>10069.867500</td>\n",
       "      <td>-79.00</td>\n",
       "      <td>6.000000</td>\n",
       "      <td>3.000000</td>\n",
       "      <td>0.000000</td>\n",
       "      <td>0.000000</td>\n",
       "      <td>NaN</td>\n",
       "      <td>NaN</td>\n",
       "      <td>NaN</td>\n",
       "      <td>NaN</td>\n",
       "      <td>NaN</td>\n",
       "      <td>NaN</td>\n",
       "      <td>NaN</td>\n",
       "      <td>NaN</td>\n",
       "      <td>NaN</td>\n",
       "      <td>NaN</td>\n",
       "      <td>NaN</td>\n",
       "      <td>NaN</td>\n",
       "      <td>NaN</td>\n",
       "      <td>NaN</td>\n",
       "      <td>NaN</td>\n",
       "      <td>NaN</td>\n",
       "      <td>NaN</td>\n",
       "      <td>NaN</td>\n",
       "      <td>NaN</td>\n",
       "      <td>NaN</td>\n",
       "      <td>NaN</td>\n",
       "      <td>NaN</td>\n",
       "      <td>NaN</td>\n",
       "      <td>NaN</td>\n",
       "      <td>NaN</td>\n",
       "      <td>NaN</td>\n",
       "      <td>NaN</td>\n",
       "      <td>NaN</td>\n",
       "      <td>NaN</td>\n",
       "    </tr>\n",
       "    <tr>\n",
       "      <th>307508</th>\n",
       "      <td>456253</td>\n",
       "      <td>0.0</td>\n",
       "      <td>-14966.0</td>\n",
       "      <td>-7921.0</td>\n",
       "      <td>-6737.0</td>\n",
       "      <td>-5150.0</td>\n",
       "      <td>1.0</td>\n",
       "      <td>1.0</td>\n",
       "      <td>0.0</td>\n",
       "      <td>1.0</td>\n",
       "      <td>0.0</td>\n",
       "      <td>1.0</td>\n",
       "      <td>1.0</td>\n",
       "      <td>3.0</td>\n",
       "      <td>3.0</td>\n",
       "      <td>9.0</td>\n",
       "      <td>0.0</td>\n",
       "      <td>0.0</td>\n",
       "      <td>0.0</td>\n",
       "      <td>0.0</td>\n",
       "      <td>1.0</td>\n",
       "      <td>1.0</td>\n",
       "      <td>6.0</td>\n",
       "      <td>0.0</td>\n",
       "      <td>6.0</td>\n",
       "      <td>0.0</td>\n",
       "      <td>-1909.0</td>\n",
       "      <td>0.0</td>\n",
       "      <td>0.0</td>\n",
       "      <td>0.0</td>\n",
       "      <td>0.0</td>\n",
       "      <td>0.0</td>\n",
       "      <td>0.0</td>\n",
       "      <td>0.0</td>\n",
       "      <td>1.0</td>\n",
       "      <td>0.0</td>\n",
       "      <td>0.0</td>\n",
       "      <td>1.0</td>\n",
       "      <td>0.0</td>\n",
       "      <td>1.0</td>\n",
       "      <td>0.0</td>\n",
       "      <td>1677221.0</td>\n",
       "      <td>24162.75</td>\n",
       "      <td>4403.25</td>\n",
       "      <td>1.0</td>\n",
       "      <td>0.214316</td>\n",
       "      <td>NaN</td>\n",
       "      <td>NaN</td>\n",
       "      <td>-2380.0</td>\n",
       "      <td>22.0</td>\n",
       "      <td>5.0</td>\n",
       "      <td>365243.0</td>\n",
       "      <td>-2339.0</td>\n",
       "      <td>-2219.0</td>\n",
       "      <td>-2219.0</td>\n",
       "      <td>-2212.5</td>\n",
       "      <td>0.5</td>\n",
       "      <td>1.000000</td>\n",
       "      <td>3.050000</td>\n",
       "      <td>-2277.500000</td>\n",
       "      <td>-2295.466667</td>\n",
       "      <td>4770.906000</td>\n",
       "      <td>4373.596500</td>\n",
       "      <td>-75.75</td>\n",
       "      <td>5.000000</td>\n",
       "      <td>2.333333</td>\n",
       "      <td>0.416667</td>\n",
       "      <td>0.416667</td>\n",
       "      <td>NaN</td>\n",
       "      <td>NaN</td>\n",
       "      <td>NaN</td>\n",
       "      <td>NaN</td>\n",
       "      <td>NaN</td>\n",
       "      <td>NaN</td>\n",
       "      <td>NaN</td>\n",
       "      <td>NaN</td>\n",
       "      <td>NaN</td>\n",
       "      <td>NaN</td>\n",
       "      <td>NaN</td>\n",
       "      <td>NaN</td>\n",
       "      <td>NaN</td>\n",
       "      <td>NaN</td>\n",
       "      <td>NaN</td>\n",
       "      <td>NaN</td>\n",
       "      <td>NaN</td>\n",
       "      <td>6098498.5</td>\n",
       "      <td>-919.0</td>\n",
       "      <td>0.0</td>\n",
       "      <td>99.0</td>\n",
       "      <td>-794.0</td>\n",
       "      <td>NaN</td>\n",
       "      <td>0.0</td>\n",
       "      <td>675000.00</td>\n",
       "      <td>85518.000</td>\n",
       "      <td>0.0</td>\n",
       "      <td>0.0</td>\n",
       "      <td>-153.5</td>\n",
       "    </tr>\n",
       "    <tr>\n",
       "      <th>307509</th>\n",
       "      <td>456254</td>\n",
       "      <td>0.0</td>\n",
       "      <td>-11961.0</td>\n",
       "      <td>-4786.0</td>\n",
       "      <td>-2562.0</td>\n",
       "      <td>-931.0</td>\n",
       "      <td>1.0</td>\n",
       "      <td>1.0</td>\n",
       "      <td>0.0</td>\n",
       "      <td>1.0</td>\n",
       "      <td>0.0</td>\n",
       "      <td>0.0</td>\n",
       "      <td>2.0</td>\n",
       "      <td>2.0</td>\n",
       "      <td>2.0</td>\n",
       "      <td>9.0</td>\n",
       "      <td>0.0</td>\n",
       "      <td>0.0</td>\n",
       "      <td>0.0</td>\n",
       "      <td>1.0</td>\n",
       "      <td>1.0</td>\n",
       "      <td>0.0</td>\n",
       "      <td>0.0</td>\n",
       "      <td>0.0</td>\n",
       "      <td>0.0</td>\n",
       "      <td>0.0</td>\n",
       "      <td>-322.0</td>\n",
       "      <td>0.0</td>\n",
       "      <td>0.0</td>\n",
       "      <td>0.0</td>\n",
       "      <td>0.0</td>\n",
       "      <td>0.0</td>\n",
       "      <td>0.0</td>\n",
       "      <td>0.0</td>\n",
       "      <td>0.0</td>\n",
       "      <td>0.0</td>\n",
       "      <td>0.0</td>\n",
       "      <td>0.0</td>\n",
       "      <td>0.0</td>\n",
       "      <td>0.0</td>\n",
       "      <td>1.0</td>\n",
       "      <td>1904658.5</td>\n",
       "      <td>121317.75</td>\n",
       "      <td>0.00</td>\n",
       "      <td>1.0</td>\n",
       "      <td>0.000000</td>\n",
       "      <td>NaN</td>\n",
       "      <td>NaN</td>\n",
       "      <td>-299.5</td>\n",
       "      <td>1578.0</td>\n",
       "      <td>15.0</td>\n",
       "      <td>365243.0</td>\n",
       "      <td>-269.0</td>\n",
       "      <td>151.0</td>\n",
       "      <td>365243.0</td>\n",
       "      <td>365243.0</td>\n",
       "      <td>0.5</td>\n",
       "      <td>1.000000</td>\n",
       "      <td>5.250000</td>\n",
       "      <td>-141.500000</td>\n",
       "      <td>-160.111111</td>\n",
       "      <td>10681.132500</td>\n",
       "      <td>10681.132500</td>\n",
       "      <td>-5.50</td>\n",
       "      <td>15.000000</td>\n",
       "      <td>10.500000</td>\n",
       "      <td>0.000000</td>\n",
       "      <td>0.000000</td>\n",
       "      <td>NaN</td>\n",
       "      <td>NaN</td>\n",
       "      <td>NaN</td>\n",
       "      <td>NaN</td>\n",
       "      <td>NaN</td>\n",
       "      <td>NaN</td>\n",
       "      <td>NaN</td>\n",
       "      <td>NaN</td>\n",
       "      <td>NaN</td>\n",
       "      <td>NaN</td>\n",
       "      <td>NaN</td>\n",
       "      <td>NaN</td>\n",
       "      <td>NaN</td>\n",
       "      <td>NaN</td>\n",
       "      <td>NaN</td>\n",
       "      <td>NaN</td>\n",
       "      <td>NaN</td>\n",
       "      <td>6669849.0</td>\n",
       "      <td>-1104.0</td>\n",
       "      <td>0.0</td>\n",
       "      <td>-859.0</td>\n",
       "      <td>-859.0</td>\n",
       "      <td>NaN</td>\n",
       "      <td>0.0</td>\n",
       "      <td>45000.00</td>\n",
       "      <td>0.000</td>\n",
       "      <td>NaN</td>\n",
       "      <td>0.0</td>\n",
       "      <td>-401.0</td>\n",
       "    </tr>\n",
       "    <tr>\n",
       "      <th>307510</th>\n",
       "      <td>456255</td>\n",
       "      <td>0.0</td>\n",
       "      <td>-16856.0</td>\n",
       "      <td>-1262.0</td>\n",
       "      <td>-5128.0</td>\n",
       "      <td>-410.0</td>\n",
       "      <td>1.0</td>\n",
       "      <td>1.0</td>\n",
       "      <td>1.0</td>\n",
       "      <td>1.0</td>\n",
       "      <td>1.0</td>\n",
       "      <td>0.0</td>\n",
       "      <td>2.0</td>\n",
       "      <td>1.0</td>\n",
       "      <td>1.0</td>\n",
       "      <td>20.0</td>\n",
       "      <td>0.0</td>\n",
       "      <td>0.0</td>\n",
       "      <td>0.0</td>\n",
       "      <td>0.0</td>\n",
       "      <td>1.0</td>\n",
       "      <td>1.0</td>\n",
       "      <td>0.0</td>\n",
       "      <td>0.0</td>\n",
       "      <td>0.0</td>\n",
       "      <td>0.0</td>\n",
       "      <td>-787.0</td>\n",
       "      <td>0.0</td>\n",
       "      <td>0.0</td>\n",
       "      <td>0.0</td>\n",
       "      <td>0.0</td>\n",
       "      <td>0.0</td>\n",
       "      <td>0.0</td>\n",
       "      <td>0.0</td>\n",
       "      <td>0.0</td>\n",
       "      <td>0.0</td>\n",
       "      <td>0.0</td>\n",
       "      <td>2.0</td>\n",
       "      <td>0.0</td>\n",
       "      <td>1.0</td>\n",
       "      <td>0.0</td>\n",
       "      <td>1725832.5</td>\n",
       "      <td>165768.75</td>\n",
       "      <td>5823.00</td>\n",
       "      <td>1.0</td>\n",
       "      <td>0.095816</td>\n",
       "      <td>NaN</td>\n",
       "      <td>NaN</td>\n",
       "      <td>-574.0</td>\n",
       "      <td>13.0</td>\n",
       "      <td>18.0</td>\n",
       "      <td>365243.0</td>\n",
       "      <td>-640.0</td>\n",
       "      <td>-33.5</td>\n",
       "      <td>-312.0</td>\n",
       "      <td>-305.5</td>\n",
       "      <td>0.0</td>\n",
       "      <td>1.155556</td>\n",
       "      <td>5.083333</td>\n",
       "      <td>-428.000000</td>\n",
       "      <td>-439.722222</td>\n",
       "      <td>31025.873750</td>\n",
       "      <td>29421.808750</td>\n",
       "      <td>-14.75</td>\n",
       "      <td>13.709091</td>\n",
       "      <td>10.677778</td>\n",
       "      <td>0.000000</td>\n",
       "      <td>0.000000</td>\n",
       "      <td>NaN</td>\n",
       "      <td>NaN</td>\n",
       "      <td>NaN</td>\n",
       "      <td>NaN</td>\n",
       "      <td>NaN</td>\n",
       "      <td>NaN</td>\n",
       "      <td>NaN</td>\n",
       "      <td>NaN</td>\n",
       "      <td>NaN</td>\n",
       "      <td>NaN</td>\n",
       "      <td>NaN</td>\n",
       "      <td>NaN</td>\n",
       "      <td>NaN</td>\n",
       "      <td>NaN</td>\n",
       "      <td>NaN</td>\n",
       "      <td>NaN</td>\n",
       "      <td>NaN</td>\n",
       "      <td>5126332.0</td>\n",
       "      <td>-1020.0</td>\n",
       "      <td>0.0</td>\n",
       "      <td>315.0</td>\n",
       "      <td>-869.5</td>\n",
       "      <td>15439.905</td>\n",
       "      <td>0.0</td>\n",
       "      <td>436032.00</td>\n",
       "      <td>126032.985</td>\n",
       "      <td>0.0</td>\n",
       "      <td>0.0</td>\n",
       "      <td>-700.0</td>\n",
       "    </tr>\n",
       "  </tbody>\n",
       "</table>\n",
       "<p>307511 rows × 97 columns</p>\n",
       "</div>"
      ],
      "text/plain": [
       "        SK_ID_CURR  CNT_CHILDREN  DAYS_BIRTH  DAYS_EMPLOYED  DAYS_REGISTRATION  DAYS_ID_PUBLISH  FLAG_MOBIL  FLAG_EMP_PHONE  FLAG_WORK_PHONE  FLAG_CONT_MOBILE  FLAG_PHONE  FLAG_EMAIL  CNT_FAM_MEMBERS  REGION_RATING_CLIENT  REGION_RATING_CLIENT_W_CITY  HOUR_APPR_PROCESS_START  REG_REGION_NOT_LIVE_REGION  \\\n",
       "0           100002           0.0     -9461.0         -637.0            -3648.0          -2120.0         1.0             1.0              0.0               1.0         1.0         0.0              1.0                   2.0                          2.0                     10.0                         0.0   \n",
       "1           100003           0.0    -16765.0        -1188.0            -1186.0           -291.0         1.0             1.0              0.0               1.0         1.0         0.0              2.0                   1.0                          1.0                     11.0                         0.0   \n",
       "2           100004           0.0    -19046.0         -225.0            -4260.0          -2531.0         1.0             1.0              1.0               1.0         1.0         0.0              1.0                   2.0                          2.0                      9.0                         0.0   \n",
       "3           100006           0.0    -19005.0        -3039.0            -9833.0          -2437.0         1.0             1.0              0.0               1.0         0.0         0.0              2.0                   2.0                          2.0                     17.0                         0.0   \n",
       "4           100007           0.0    -19932.0        -3038.0            -4311.0          -3458.0         1.0             1.0              0.0               1.0         0.0         0.0              1.0                   2.0                          2.0                     11.0                         0.0   \n",
       "...            ...           ...         ...            ...                ...              ...         ...             ...              ...               ...         ...         ...              ...                   ...                          ...                      ...                         ...   \n",
       "307506      456251           0.0     -9327.0         -236.0            -8456.0          -1982.0         1.0             1.0              0.0               1.0         0.0         0.0              1.0                   1.0                          1.0                     15.0                         0.0   \n",
       "307507      456252           0.0    -20775.0       365243.0            -4388.0          -4090.0         1.0             0.0              0.0               1.0         1.0         0.0              1.0                   2.0                          2.0                      8.0                         0.0   \n",
       "307508      456253           0.0    -14966.0        -7921.0            -6737.0          -5150.0         1.0             1.0              0.0               1.0         0.0         1.0              1.0                   3.0                          3.0                      9.0                         0.0   \n",
       "307509      456254           0.0    -11961.0        -4786.0            -2562.0           -931.0         1.0             1.0              0.0               1.0         0.0         0.0              2.0                   2.0                          2.0                      9.0                         0.0   \n",
       "307510      456255           0.0    -16856.0        -1262.0            -5128.0           -410.0         1.0             1.0              1.0               1.0         1.0         0.0              2.0                   1.0                          1.0                     20.0                         0.0   \n",
       "\n",
       "        REG_REGION_NOT_WORK_REGION  LIVE_REGION_NOT_WORK_REGION  REG_CITY_NOT_LIVE_CITY  REG_CITY_NOT_WORK_CITY  LIVE_CITY_NOT_WORK_CITY  OBS_30_CNT_SOCIAL_CIRCLE  DEF_30_CNT_SOCIAL_CIRCLE  OBS_60_CNT_SOCIAL_CIRCLE  DEF_60_CNT_SOCIAL_CIRCLE  DAYS_LAST_PHONE_CHANGE  FLAG_DOCUMENT_4  FLAG_DOCUMENT_5  FLAG_DOCUMENT_7  \\\n",
       "0                              0.0                          0.0                     0.0                     0.0                      0.0                       2.0                       2.0                       2.0                       2.0                 -1134.0              0.0              0.0              0.0   \n",
       "1                              0.0                          0.0                     0.0                     0.0                      0.0                       1.0                       0.0                       1.0                       0.0                  -828.0              0.0              0.0              0.0   \n",
       "2                              0.0                          0.0                     0.0                     0.0                      0.0                       0.0                       0.0                       0.0                       0.0                  -815.0              0.0              0.0              0.0   \n",
       "3                              0.0                          0.0                     0.0                     0.0                      0.0                       2.0                       0.0                       2.0                       0.0                  -617.0              0.0              0.0              0.0   \n",
       "4                              0.0                          0.0                     0.0                     1.0                      1.0                       0.0                       0.0                       0.0                       0.0                 -1106.0              0.0              0.0              0.0   \n",
       "...                            ...                          ...                     ...                     ...                      ...                       ...                       ...                       ...                       ...                     ...              ...              ...              ...   \n",
       "307506                         0.0                          0.0                     0.0                     0.0                      0.0                       0.0                       0.0                       0.0                       0.0                  -273.0              0.0              0.0              0.0   \n",
       "307507                         0.0                          0.0                     0.0                     0.0                      0.0                       0.0                       0.0                       0.0                       0.0                     0.0              0.0              0.0              0.0   \n",
       "307508                         0.0                          0.0                     0.0                     1.0                      1.0                       6.0                       0.0                       6.0                       0.0                 -1909.0              0.0              0.0              0.0   \n",
       "307509                         0.0                          0.0                     1.0                     1.0                      0.0                       0.0                       0.0                       0.0                       0.0                  -322.0              0.0              0.0              0.0   \n",
       "307510                         0.0                          0.0                     0.0                     1.0                      1.0                       0.0                       0.0                       0.0                       0.0                  -787.0              0.0              0.0              0.0   \n",
       "\n",
       "        FLAG_DOCUMENT_10  FLAG_DOCUMENT_12  FLAG_DOCUMENT_19  FLAG_DOCUMENT_20  AMT_REQ_CREDIT_BUREAU_HOUR  AMT_REQ_CREDIT_BUREAU_DAY  AMT_REQ_CREDIT_BUREAU_WEEK  AMT_REQ_CREDIT_BUREAU_MON  AMT_REQ_CREDIT_BUREAU_QRT  AMT_REQ_CREDIT_BUREAU_YEAR  TARGET  SK_ID_PREV  AMT_APPLICATION  AMT_DOWN_PAYMENT  \\\n",
       "0                    0.0               0.0               0.0               0.0                         0.0                        0.0                         0.0                        0.0                        0.0                         1.0     1.0   1038818.0        179055.00              0.00   \n",
       "1                    0.0               0.0               0.0               0.0                         0.0                        0.0                         0.0                        0.0                        0.0                         0.0     0.0   2396755.0        337500.00           3442.50   \n",
       "2                    0.0               0.0               0.0               0.0                         0.0                        0.0                         0.0                        0.0                        0.0                         0.0     0.0   1564014.0         24282.00           4860.00   \n",
       "3                    0.0               0.0               0.0               0.0                         NaN                        NaN                         NaN                        NaN                        NaN                         NaN     0.0   2078043.0        270000.00          34840.17   \n",
       "4                    0.0               0.0               0.0               0.0                         0.0                        0.0                         0.0                        0.0                        0.0                         0.0     0.0   2060607.5        191250.00           3390.75   \n",
       "...                  ...               ...               ...               ...                         ...                        ...                         ...                        ...                        ...                         ...     ...         ...              ...               ...   \n",
       "307506               0.0               0.0               0.0               0.0                         NaN                        NaN                         NaN                        NaN                        NaN                         NaN     0.0   2248017.0         40455.00              0.00   \n",
       "307507               0.0               0.0               0.0               0.0                         NaN                        NaN                         NaN                        NaN                        NaN                         NaN     0.0   1503599.0         57595.50           3456.00   \n",
       "307508               0.0               0.0               0.0               0.0                         1.0                        0.0                         0.0                        1.0                        0.0                         1.0     0.0   1677221.0         24162.75           4403.25   \n",
       "307509               0.0               0.0               0.0               0.0                         0.0                        0.0                         0.0                        0.0                        0.0                         0.0     1.0   1904658.5        121317.75              0.00   \n",
       "307510               0.0               0.0               0.0               0.0                         0.0                        0.0                         0.0                        2.0                        0.0                         1.0     0.0   1725832.5        165768.75           5823.00   \n",
       "\n",
       "        NFLAG_LAST_APPL_IN_DAY  RATE_DOWN_PAYMENT  RATE_INTEREST_PRIMARY  RATE_INTEREST_PRIVILEGED  DAYS_DECISION  SELLERPLACE_AREA  CNT_PAYMENT  DAYS_FIRST_DRAWING  DAYS_FIRST_DUE  DAYS_LAST_DUE_1ST_VERSION  DAYS_LAST_DUE  DAYS_TERMINATION  NFLAG_INSURED_ON_APPROVAL  NUM_INSTALMENT_VERSION  NUM_INSTALMENT_NUMBER  \\\n",
       "0                          1.0           0.000000                    NaN                       NaN         -606.0             500.0         24.0            365243.0          -565.0                      125.0          -25.0             -17.0                        0.0                1.052632              10.000000   \n",
       "1                          1.0           0.050030                    NaN                       NaN         -828.0             200.0         12.0            365243.0          -797.0                     -647.0         -647.0            -639.0                        1.0                1.000000               4.000000   \n",
       "2                          1.0           0.212008                    NaN                       NaN         -815.0              30.0          4.0            365243.0          -784.0                     -694.0         -724.0            -714.0                        0.0                1.333333               2.000000   \n",
       "3                          1.0           0.163412                    NaN                       NaN         -181.0              -1.0         15.0            365243.0          -216.0                      654.0       182546.0          182550.0                        0.0                1.200000               3.000000   \n",
       "4                          1.0           0.159516                    NaN                       NaN         -986.5              28.5         15.0            365243.0         -1076.0                     -746.0         -746.0            -739.0                        1.0                1.000000               6.500000   \n",
       "...                        ...                ...                    ...                       ...            ...               ...          ...                 ...             ...                        ...            ...               ...                        ...                     ...                    ...   \n",
       "307506                     1.0           0.000000                    NaN                       NaN         -273.0              30.0          8.0            365243.0          -210.0                        0.0          -30.0             -25.0                        0.0                1.142857               4.000000   \n",
       "307507                     1.0           0.062443                    NaN                       NaN        -2497.0             190.0          6.0            365243.0         -2466.0                    -2316.0        -2316.0           -2311.0                        1.0                1.000000               3.500000   \n",
       "307508                     1.0           0.214316                    NaN                       NaN        -2380.0              22.0          5.0            365243.0         -2339.0                    -2219.0        -2219.0           -2212.5                        0.5                1.000000               3.050000   \n",
       "307509                     1.0           0.000000                    NaN                       NaN         -299.5            1578.0         15.0            365243.0          -269.0                      151.0       365243.0          365243.0                        0.5                1.000000               5.250000   \n",
       "307510                     1.0           0.095816                    NaN                       NaN         -574.0              13.0         18.0            365243.0          -640.0                      -33.5         -312.0            -305.5                        0.0                1.155556               5.083333   \n",
       "\n",
       "        DAYS_INSTALMENT  DAYS_ENTRY_PAYMENT  AMT_INSTALMENT   AMT_PAYMENT  MONTHS_BALANCE  CNT_INSTALMENT  CNT_INSTALMENT_FUTURE    SK_DPD  SK_DPD_DEF  AMT_BALANCE  AMT_CREDIT_LIMIT_ACTUAL  AMT_DRAWINGS_ATM_CURRENT  AMT_DRAWINGS_CURRENT  AMT_DRAWINGS_OTHER_CURRENT  AMT_DRAWINGS_POS_CURRENT  AMT_INST_MIN_REGULARITY  \\\n",
       "0           -295.000000         -315.421053    11559.247105  11559.247105          -10.00       24.000000              15.000000  0.000000    0.000000          NaN                      NaN                       NaN                   NaN                         NaN                       NaN                      NaN   \n",
       "1           -722.000000         -733.166667    64518.990000  64518.990000          -24.50       11.375000               6.500000  0.000000    0.000000          NaN                      NaN                       NaN                   NaN                         NaN                       NaN                      NaN   \n",
       "2           -754.000000         -761.666667     7096.155000   7096.155000          -25.50        3.750000               2.250000  0.000000    0.000000          NaN                      NaN                       NaN                   NaN                         NaN                       NaN                      NaN   \n",
       "3           -151.000000         -174.000000    29027.520000  29027.520000           -5.50       12.000000               7.500000  0.000000    0.000000          0.0                 270000.0                       NaN                   0.0                         NaN                       NaN                      0.0   \n",
       "4           -923.692308         -926.615385    16037.640000  16037.640000          -30.00       12.000000               6.000000  0.000000    0.000000          NaN                      NaN                       NaN                   NaN                         NaN                       NaN                      NaN   \n",
       "...                 ...                 ...             ...           ...             ...             ...                    ...       ...         ...          ...                      ...                       ...                   ...                         ...                       ...                      ...   \n",
       "307506      -120.000000         -156.285714     7492.924286   7492.924286           -5.00        7.875000               4.375000  0.000000    0.000000          NaN                      NaN                       NaN                   NaN                         NaN                       NaN                      NaN   \n",
       "307507     -2391.000000        -2393.833333    10069.867500  10069.867500          -79.00        6.000000               3.000000  0.000000    0.000000          NaN                      NaN                       NaN                   NaN                         NaN                       NaN                      NaN   \n",
       "307508     -2277.500000        -2295.466667     4770.906000   4373.596500          -75.75        5.000000               2.333333  0.416667    0.416667          NaN                      NaN                       NaN                   NaN                         NaN                       NaN                      NaN   \n",
       "307509      -141.500000         -160.111111    10681.132500  10681.132500           -5.50       15.000000              10.500000  0.000000    0.000000          NaN                      NaN                       NaN                   NaN                         NaN                       NaN                      NaN   \n",
       "307510      -428.000000         -439.722222    31025.873750  29421.808750          -14.75       13.709091              10.677778  0.000000    0.000000          NaN                      NaN                       NaN                   NaN                         NaN                       NaN                      NaN   \n",
       "\n",
       "        AMT_PAYMENT_CURRENT  AMT_PAYMENT_TOTAL_CURRENT  AMT_RECEIVABLE_PRINCIPAL  AMT_RECIVABLE  AMT_TOTAL_RECEIVABLE  CNT_DRAWINGS_ATM_CURRENT  CNT_DRAWINGS_CURRENT  CNT_DRAWINGS_OTHER_CURRENT  CNT_DRAWINGS_POS_CURRENT  CNT_INSTALMENT_MATURE_CUM  SK_ID_BUREAU  DAYS_CREDIT  CREDIT_DAY_OVERDUE  DAYS_CREDIT_ENDDATE  \\\n",
       "0                       NaN                        NaN                       NaN            NaN                   NaN                       NaN                   NaN                         NaN                       NaN                        NaN     6158905.5      -1042.5                 0.0               -424.5   \n",
       "1                       NaN                        NaN                       NaN            NaN                   NaN                       NaN                   NaN                         NaN                       NaN                        NaN     5885878.5      -1205.5                 0.0               -480.0   \n",
       "2                       NaN                        NaN                       NaN            NaN                   NaN                       NaN                   NaN                         NaN                       NaN                        NaN     6829133.5       -867.0                 0.0               -488.5   \n",
       "3                       NaN                        0.0                       0.0            0.0                   0.0                       NaN                   0.0                         NaN                       NaN                        0.0           NaN          NaN                 NaN                  NaN   \n",
       "4                       NaN                        NaN                       NaN            NaN                   NaN                       NaN                   NaN                         NaN                       NaN                        NaN     5987200.0      -1149.0                 0.0               -783.0   \n",
       "...                     ...                        ...                       ...            ...                   ...                       ...                   ...                         ...                       ...                        ...           ...          ...                 ...                  ...   \n",
       "307506                  NaN                        NaN                       NaN            NaN                   NaN                       NaN                   NaN                         NaN                       NaN                        NaN           NaN          NaN                 NaN                  NaN   \n",
       "307507                  NaN                        NaN                       NaN            NaN                   NaN                       NaN                   NaN                         NaN                       NaN                        NaN           NaN          NaN                 NaN                  NaN   \n",
       "307508                  NaN                        NaN                       NaN            NaN                   NaN                       NaN                   NaN                         NaN                       NaN                        NaN     6098498.5       -919.0                 0.0                 99.0   \n",
       "307509                  NaN                        NaN                       NaN            NaN                   NaN                       NaN                   NaN                         NaN                       NaN                        NaN     6669849.0      -1104.0                 0.0               -859.0   \n",
       "307510                  NaN                        NaN                       NaN            NaN                   NaN                       NaN                   NaN                         NaN                       NaN                        NaN     5126332.0      -1020.0                 0.0                315.0   \n",
       "\n",
       "        DAYS_ENDDATE_FACT  AMT_CREDIT_MAX_OVERDUE  CNT_CREDIT_PROLONG  AMT_CREDIT_SUM  AMT_CREDIT_SUM_DEBT  AMT_CREDIT_SUM_LIMIT  AMT_CREDIT_SUM_OVERDUE  DAYS_CREDIT_UPDATE  \n",
       "0                  -939.0                  40.500                 0.0        54130.50                0.000                   0.0                     0.0              -402.5  \n",
       "1                  -621.0                   0.000                 0.0        92576.25                0.000                   0.0                     0.0              -545.0  \n",
       "2                  -532.5                   0.000                 0.0        94518.90                0.000                   0.0                     0.0              -532.0  \n",
       "3                     NaN                     NaN                 NaN             NaN                  NaN                   NaN                     NaN                 NaN  \n",
       "4                  -783.0                   0.000                 0.0       146250.00                0.000                   0.0                     0.0              -783.0  \n",
       "...                   ...                     ...                 ...             ...                  ...                   ...                     ...                 ...  \n",
       "307506                NaN                     NaN                 NaN             NaN                  NaN                   NaN                     NaN                 NaN  \n",
       "307507                NaN                     NaN                 NaN             NaN                  NaN                   NaN                     NaN                 NaN  \n",
       "307508             -794.0                     NaN                 0.0       675000.00            85518.000                   0.0                     0.0              -153.5  \n",
       "307509             -859.0                     NaN                 0.0        45000.00                0.000                   NaN                     0.0              -401.0  \n",
       "307510             -869.5               15439.905                 0.0       436032.00           126032.985                   0.0                     0.0              -700.0  \n",
       "\n",
       "[307511 rows x 97 columns]"
      ]
     },
     "execution_count": 83,
     "metadata": {},
     "output_type": "execute_result"
    }
   ],
   "source": [
    "new_df"
   ]
  },
  {
   "cell_type": "code",
   "execution_count": 84,
   "id": "17180a44",
   "metadata": {},
   "outputs": [],
   "source": [
    "col = list(df.columns)"
   ]
  },
  {
   "cell_type": "code",
   "execution_count": 85,
   "id": "47ee0c2c",
   "metadata": {},
   "outputs": [],
   "source": [
    "new_df[col] = df[col]"
   ]
  },
  {
   "cell_type": "code",
   "execution_count": 86,
   "id": "2623f623",
   "metadata": {},
   "outputs": [],
   "source": [
    "imputation = new_df.copy()"
   ]
  },
  {
   "cell_type": "code",
   "execution_count": 87,
   "id": "a3fffcc2",
   "metadata": {},
   "outputs": [],
   "source": [
    "imputation.drop(col, axis=1, inplace=True)"
   ]
  },
  {
   "cell_type": "code",
   "execution_count": 88,
   "id": "9d391413",
   "metadata": {},
   "outputs": [],
   "source": [
    "imputation['TARGET'] = new_df.TARGET"
   ]
  },
  {
   "cell_type": "code",
   "execution_count": 89,
   "id": "f06161c1",
   "metadata": {},
   "outputs": [],
   "source": [
    "for i in imputation.columns:\n",
    "    if imputation[i].isnull().sum() != 0:\n",
    "        median_0 = (imputation[imputation.TARGET == 0].loc[:, [i]].median())[0]\n",
    "        median_1 = (imputation[imputation.TARGET == 1].loc[:, [i]].median())[0]\n",
    "        \n",
    "        imputation[i][imputation.TARGET == 0] = imputation[i][imputation.TARGET == 0].fillna(median_0)\n",
    "        imputation[i][imputation.TARGET == 1] = imputation[i][imputation.TARGET == 1].fillna(median_1)"
   ]
  },
  {
   "cell_type": "code",
   "execution_count": 90,
   "id": "a741ab73",
   "metadata": {},
   "outputs": [],
   "source": [
    "col = list(imputation.columns)"
   ]
  },
  {
   "cell_type": "code",
   "execution_count": 91,
   "id": "9574f07b",
   "metadata": {},
   "outputs": [],
   "source": [
    "new_df[col] = imputation[col]"
   ]
  },
  {
   "cell_type": "code",
   "execution_count": 92,
   "id": "dd649478",
   "metadata": {},
   "outputs": [],
   "source": [
    "new_df.drop(['SK_ID_BUREAU', 'SK_ID_CURR', 'SK_ID_PREV'], axis=1, inplace=True)"
   ]
  },
  {
   "cell_type": "code",
   "execution_count": 93,
   "id": "19832901",
   "metadata": {},
   "outputs": [],
   "source": [
    "continuos_insignificance.remove('SK_ID_PREV')\n",
    "continuos_insignificance.remove('SK_ID_BUREAU')"
   ]
  },
  {
   "cell_type": "code",
   "execution_count": 94,
   "id": "8ca97232",
   "metadata": {},
   "outputs": [],
   "source": [
    "new_df.drop(continuos_insignificance, axis=1, inplace=True)"
   ]
  },
  {
   "cell_type": "code",
   "execution_count": 95,
   "id": "3841f6a8",
   "metadata": {},
   "outputs": [],
   "source": [
    "X = new_df.drop('TARGET', axis = 1)\n",
    "y = df.TARGET"
   ]
  },
  {
   "cell_type": "code",
   "execution_count": 96,
   "id": "e4b26be3",
   "metadata": {},
   "outputs": [],
   "source": [
    "X = pd.get_dummies(X, columns=categorical_dummies, drop_first=True)"
   ]
  },
  {
   "cell_type": "code",
   "execution_count": 97,
   "id": "25c9db68",
   "metadata": {},
   "outputs": [],
   "source": [
    "X_train, X_test, y_train, y_test = train_test_split(X, y, test_size=0.25)"
   ]
  },
  {
   "cell_type": "code",
   "execution_count": 98,
   "id": "fd3dcb57",
   "metadata": {},
   "outputs": [],
   "source": [
    "from imblearn.over_sampling import SMOTE\n",
    "sm = SMOTE()\n",
    "Xb_train, yb_train = sm.fit_resample(X_train, y_train)"
   ]
  },
  {
   "cell_type": "code",
   "execution_count": 99,
   "id": "d0d9a8f8",
   "metadata": {},
   "outputs": [],
   "source": [
    "logreg = LogisticRegression()\n",
    "logreg.fit(Xb_train, yb_train)\n",
    "y_train_pred = logreg.predict(Xb_train)"
   ]
  },
  {
   "cell_type": "code",
   "execution_count": null,
   "id": "1236c061",
   "metadata": {},
   "outputs": [],
   "source": []
  },
  {
   "cell_type": "code",
   "execution_count": 100,
   "id": "bf05e4cb",
   "metadata": {},
   "outputs": [
    {
     "name": "stdout",
     "output_type": "stream",
     "text": [
      "Accuracy of logistic regression classifier on training set: 89.43\n"
     ]
    }
   ],
   "source": [
    "#y_pred = logreg.predict(X_test)\n",
    "print('Accuracy of logistic regression classifier on training set: {:.2f}'.format(accuracy_score(yb_train, y_train_pred)*100))"
   ]
  },
  {
   "cell_type": "code",
   "execution_count": 101,
   "id": "7826c8be",
   "metadata": {},
   "outputs": [
    {
     "name": "stdout",
     "output_type": "stream",
     "text": [
      "[[197960  14094]\n",
      " [ 30728 181326]]\n"
     ]
    }
   ],
   "source": [
    "cm = confusion_matrix(yb_train, y_train_pred)\n",
    "print(cm)"
   ]
  },
  {
   "cell_type": "code",
   "execution_count": 102,
   "id": "1dc8cd6d",
   "metadata": {},
   "outputs": [
    {
     "data": {
      "image/png": "[encoded data removed]",
      "text/plain": [
       "<Figure size 432x288 with 2 Axes>"
      ]
     },
     "metadata": {
      "needs_background": "light"
     },
     "output_type": "display_data"
    }
   ],
   "source": [
    "display = metrics.ConfusionMatrixDisplay(confusion_matrix=cm)\n",
    "display.plot();\n",
    "plt.show()"
   ]
  },
  {
   "cell_type": "code",
   "execution_count": 103,
   "id": "78081b9c",
   "metadata": {},
   "outputs": [
    {
     "data": {
      "image/png": "[encoded data removed]",
      "text/plain": [
       "<Figure size 432x288 with 1 Axes>"
      ]
     },
     "metadata": {
      "needs_background": "light"
     },
     "output_type": "display_data"
    }
   ],
   "source": [
    "logit_roc_auc = roc_auc_score(yb_train, y_train_pred)\n",
    "fpr, tpr, thresholds = roc_curve(yb_train, logreg.predict_proba(Xb_train)[:,1])\n",
    "plt.figure()\n",
    "plt.plot(fpr, tpr, label='Logistic Regression (area = %0.2f)' % logit_roc_auc)\n",
    "plt.plot([0, 1], [0, 1],'r--')\n",
    "plt.xlim([0.0, 1.0])\n",
    "plt.ylim([0.0, 1.05])\n",
    "plt.xlabel('False Positive Rate')\n",
    "plt.ylabel('True Positive Rate')\n",
    "plt.title('Receiver operating characteristic')\n",
    "plt.legend(loc=\"lower right\")\n",
    "plt.savefig('Log_ROC')\n",
    "plt.show()\n"
   ]
  },
  {
   "cell_type": "code",
   "execution_count": 104,
   "id": "1416ff2f",
   "metadata": {},
   "outputs": [
    {
     "name": "stdout",
     "output_type": "stream",
     "text": [
      "0.9278784157199877\n",
      "0.8550935139162666\n",
      "0.890000343580204\n"
     ]
    }
   ],
   "source": [
    "print(precision_score(yb_train, y_train_pred))\n",
    "print(recall_score(yb_train, y_train_pred))\n",
    "print(f1_score(yb_train, y_train_pred))"
   ]
  },
  {
   "cell_type": "code",
   "execution_count": 105,
   "id": "a342b2cd",
   "metadata": {},
   "outputs": [
    {
     "name": "stdout",
     "output_type": "stream",
     "text": [
      "Accuracy of logistic regression classifier on test set: 89.55\n"
     ]
    }
   ],
   "source": [
    "y_pred = logreg.predict(X_test)\n",
    "print('Accuracy of logistic regression classifier on test set: {:.2f}'.format(accuracy_score(y_test, y_pred)*100))"
   ]
  },
  {
   "cell_type": "code",
   "execution_count": 106,
   "id": "87a092ff",
   "metadata": {},
   "outputs": [
    {
     "data": {
      "image/png": "[encoded data removed]",
      "text/plain": [
       "<Figure size 432x288 with 1 Axes>"
      ]
     },
     "metadata": {
      "needs_background": "light"
     },
     "output_type": "display_data"
    }
   ],
   "source": [
    "logit_roc_auc = roc_auc_score(y_test, y_pred)\n",
    "fpr, tpr, thresholds = roc_curve(y_test, logreg.predict_proba(X_test)[:,1])\n",
    "plt.figure()\n",
    "plt.plot(fpr, tpr, label='Logistic Regression (area = %0.2f)' % logit_roc_auc)\n",
    "plt.plot([0, 1], [0, 1],'r--')\n",
    "plt.xlim([0.0, 1.0])\n",
    "plt.ylim([0.0, 1.05])\n",
    "plt.xlabel('False Positive Rate')\n",
    "plt.ylabel('True Positive Rate')\n",
    "plt.title('Receiver operating characteristic')\n",
    "plt.legend(loc=\"lower right\")\n",
    "plt.savefig('Log_ROC')\n",
    "plt.show()\n"
   ]
  },
  {
   "cell_type": "code",
   "execution_count": 107,
   "id": "6c795e1b",
   "metadata": {},
   "outputs": [
    {
     "name": "stdout",
     "output_type": "stream",
     "text": [
      "0.9282342121397915\n",
      "0.8573734284743459\n",
      "0.8913977861516722\n"
     ]
    }
   ],
   "source": [
    "print(precision_score(y_test, y_pred))\n",
    "print(recall_score(y_test, y_pred))\n",
    "print(f1_score(y_test, y_pred))"
   ]
  },
  {
   "cell_type": "code",
   "execution_count": null,
   "id": "9487004b",
   "metadata": {},
   "outputs": [],
   "source": []
  }
 ],
 "metadata": {
  "kernelspec": {
   "display_name": "Python 3 (ipykernel)",
   "language": "python",
   "name": "python3"
  },
  "language_info": {
   "codemirror_mode": {
    "name": "ipython",
    "version": 3
   },
   "file_extension": ".py",
   "mimetype": "text/x-python",
   "name": "python",
   "nbconvert_exporter": "python",
   "pygments_lexer": "ipython3",
   "version": "3.9.12"
  }
 },
 "nbformat": 4,
 "nbformat_minor": 5
}
